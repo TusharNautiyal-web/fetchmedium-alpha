{
 "cells": [
  {
   "cell_type": "code",
   "execution_count": 45,
   "id": "d4a6cd14",
   "metadata": {},
   "outputs": [],
   "source": [
    "import feedparser\n",
    "import requests"
   ]
  },
  {
   "cell_type": "code",
   "execution_count": 113,
   "id": "30437f3c",
   "metadata": {
    "scrolled": true
   },
   "outputs": [
    {
     "data": {
      "text/plain": [
       "[<img alt=\"\" src=\"https://cdn-images-1.medium.com/max/1024/1*HgkCifP0KUDnYJOWsWaVBg.png\"/>,\n",
       " <img alt=\"\" src=\"https://cdn-images-1.medium.com/max/800/1*XwNxl-SHcBuu9mo09mPNPw.png\"/>,\n",
       " <img alt=\"\" src=\"https://cdn-images-1.medium.com/max/1024/1*WHAubWuFPmu3V-mzFy6ZGw.jpeg\"/>,\n",
       " <img alt=\"\" height=\"1\" src=\"https://medium.com/_/stat?event=post.clientViewed&amp;referrerSource=full_rss&amp;postId=b36813f42201\" width=\"1\"/>]"
      ]
     },
     "execution_count": 113,
     "metadata": {},
     "output_type": "execute_result"
    }
   ],
   "source": [
    "# from fastapi import FastAPI\n",
    "# app = FastAPI()\n",
    "\n",
    "from email import feedparser\n",
    "from turtle import end_fill\n",
    "import feedparser as feed\n",
    "import re\n",
    "\n",
    "\n",
    "username = '@tsa.vevo.music'\n",
    "url = f'https://medium.com/feed/{username}'\n",
    "info = feed.parse(url)\n",
    "\n",
    "# Conversion of rss and taking important parameters\n",
    "# and unfortunately but rss feeds gives top 10 recent output only\n",
    "\n",
    "data = info['entries']\n",
    "article_dict = {}\n",
    "for i,info in enumerate(data):\n",
    "    article_dict[f'article_{i}'] = info\n",
    "\n",
    "# Removing Unecessary things from the feed\n",
    "for article in article_dict:\n",
    "    article_dict[article].pop('title_detail')\n",
    "    if(article_dict[article].has_key('summary_detail')):\n",
    "        article_dict[article].pop('summary_detail')\n",
    "    article_dict[article].pop('links')\n",
    "    article_dict[article].pop('guidislink')\n",
    "    article_dict[article].pop('published_parsed')\n",
    "    article_dict[article].pop('authors')\n",
    "    article_dict[article].pop('author_detail')\n",
    "    article_dict[article].pop('updated_parsed')\n",
    "\n",
    "# Converting link from rss to normal\n",
    "for article in article_dict:\n",
    "    temp = str(article_dict[article]['link'])\n",
    "    article_dict[article]['link'] = temp.split('?',1)[0]\n",
    "test_str = article_dict['article_0']['content'][0]['value']\n",
    "\n",
    "# initializing tag\n",
    "from bs4 import BeautifulSoup as BSHTML\n",
    "soup = BSHTML(test_str)\n",
    "images = soup.findAll('img')\n",
    "images"
   ]
  },
  {
   "cell_type": "code",
   "execution_count": 69,
   "id": "4edb5812",
   "metadata": {
    "scrolled": true
   },
   "outputs": [
    {
     "data": {
      "text/plain": [
       "{'title': 'Stories by Michael Chen on Medium',\n",
       " 'title_detail': {'type': 'text/plain',\n",
       "  'language': None,\n",
       "  'base': 'https://medium.com/feed/@Stoic.Sleeper',\n",
       "  'value': 'Stories by Michael Chen on Medium'},\n",
       " 'subtitle': 'Stories by Michael Chen on Medium',\n",
       " 'subtitle_detail': {'type': 'text/html',\n",
       "  'language': None,\n",
       "  'base': 'https://medium.com/feed/@Stoic.Sleeper',\n",
       "  'value': 'Stories by Michael Chen on Medium'},\n",
       " 'links': [{'rel': 'alternate',\n",
       "   'type': 'text/html',\n",
       "   'href': 'https://medium.com/@Stoic.Sleeper?source=rss-cefa94c15a32------2'},\n",
       "  {'href': 'https://medium.com/@Stoic.Sleeper/feed',\n",
       "   'rel': 'self',\n",
       "   'type': 'application/rss+xml'},\n",
       "  {'href': 'http://medium.superfeedr.com', 'rel': 'hub', 'type': 'text/html'}],\n",
       " 'link': 'https://medium.com/@Stoic.Sleeper?source=rss-cefa94c15a32------2',\n",
       " 'image': {'href': 'https://cdn-images-1.medium.com/fit/c/150/150/1*nsfGDUeBY9dWtFtGBW8XEQ.jpeg',\n",
       "  'title': 'Stories by Michael Chen on Medium',\n",
       "  'title_detail': {'type': 'text/plain',\n",
       "   'language': None,\n",
       "   'base': 'https://medium.com/feed/@Stoic.Sleeper',\n",
       "   'value': 'Stories by Michael Chen on Medium'},\n",
       "  'links': [{'rel': 'alternate',\n",
       "    'type': 'text/html',\n",
       "    'href': 'https://medium.com/@Stoic.Sleeper?source=rss-cefa94c15a32------2'}],\n",
       "  'link': 'https://medium.com/@Stoic.Sleeper?source=rss-cefa94c15a32------2'},\n",
       " 'generator_detail': {'name': 'Medium'},\n",
       " 'generator': 'Medium',\n",
       " 'updated': 'Sat, 16 Jul 2022 01:14:59 GMT',\n",
       " 'updated_parsed': time.struct_time(tm_year=2022, tm_mon=7, tm_mday=16, tm_hour=1, tm_min=14, tm_sec=59, tm_wday=5, tm_yday=197, tm_isdst=0),\n",
       " 'publisher': 'yourfriends@medium.com',\n",
       " 'publisher_detail': {'email': 'yourfriends@medium.com'}}"
      ]
     },
     "execution_count": 69,
     "metadata": {},
     "output_type": "execute_result"
    }
   ],
   "source": [
    "info.feed"
   ]
  },
  {
   "cell_type": "code",
   "execution_count": 86,
   "id": "522ab03b",
   "metadata": {},
   "outputs": [],
   "source": [
    "info = feed.parse(url)\n",
    "user_data  = info.feed\n",
    "user_data['profile_pic'] = user_data['image'].href\n",
    "user_data['link'] = str(user_data['link']).split('?',1)[0]\n",
    "unecessary = ['title_detail','subtitle','subtitle_detail','links','generator_detail','image','updated_parsed','publisher','publisher_detail'] \n",
    "for e in unecessary: \n",
    "    user_data.pop(e)\n",
    "\n",
    "# fixing image settings\n",
    "\n",
    "\n"
   ]
  },
  {
   "cell_type": "code",
   "execution_count": 87,
   "id": "96b97320",
   "metadata": {},
   "outputs": [
    {
     "data": {
      "text/plain": [
       "{'title': 'Stories by Tushar Nautiyal on Medium',\n",
       " 'link': 'https://medium.com/@tsa.vevo.music',\n",
       " 'generator': 'Medium',\n",
       " 'updated': 'Sat, 16 Jul 2022 01:38:46 GMT',\n",
       " 'profile_pic': 'https://cdn-images-1.medium.com/fit/c/150/150/1*vIiKIhvUTax_JqwnD_vSgA.jpeg'}"
      ]
     },
     "execution_count": 87,
     "metadata": {},
     "output_type": "execute_result"
    }
   ],
   "source": [
    "user_data"
   ]
  },
  {
   "cell_type": "code",
   "execution_count": 88,
   "id": "30df6426",
   "metadata": {},
   "outputs": [
    {
     "data": {
      "text/plain": [
       "{'article_0': {'title': 'Hyper Parameter Tuning of Random Forest Algorithim.',\n",
       "  'link': 'https://medium.com/@tsa.vevo.music/hyper-parameter-tuning-of-random-forest-algorithim-b36813f42201',\n",
       "  'id': 'https://medium.com/p/b36813f42201',\n",
       "  'tags': [{'term': 'data-science', 'scheme': None, 'label': None},\n",
       "   {'term': 'data-analysis', 'scheme': None, 'label': None},\n",
       "   {'term': 'machine-learning', 'scheme': None, 'label': None}],\n",
       "  'author': 'Tushar Nautiyal',\n",
       "  'published': 'Wed, 13 Jul 2022 11:43:48 GMT',\n",
       "  'updated': '2022-07-13T11:44:58.235Z',\n",
       "  'content': [{'type': 'text/html',\n",
       "    'language': None,\n",
       "    'base': 'https://medium.com/feed/@tsa.vevo.music',\n",
       "    'value': '<p><strong><em>Algorithm Article\\xa0Series</em></strong></p><figure><img alt=\"\" src=\"https://cdn-images-1.medium.com/max/1024/1*HgkCifP0KUDnYJOWsWaVBg.png\" /><figcaption>Title Image</figcaption></figure><p>This article, explore the famous <strong>supervised machine learning</strong> algorithm “<strong><em>Random Forests</em></strong>”. The aim of this article is to give you a holistic and intuitive understanding about how this algorithm works and what are its hyper parameters what all they\\xa0mean.</p><p>Lets get a basic introduction of our algorithm, <strong>Random Forest</strong> is an ensemble algorithm which uses <strong>bagging</strong> technique to predict a outcome. It fits a number of <strong>decision tree </strong>classifiers on various sub-samples of the dataset and uses averaging to improve the predictive accuracy and control over-fitting.</p><figure><img alt=\"\" src=\"https://cdn-images-1.medium.com/max/800/1*XwNxl-SHcBuu9mo09mPNPw.png\" /><figcaption>Bagging Works Parralely sedning some features with replacement to the\\xa0model</figcaption></figure><h3>Usage of Random Forest Algorithm</h3><p>To use random forest algorithm we can use a very popular machine learning library known as scikit-learn for python. We need to first import Random Forest Classifier for classification problems and Random Forest Regressor for regression problems.</p><a href=\"https://medium.com/media/7ad42a6fcc2577dbf8987d20eb8c496d/href\">https://medium.com/media/7ad42a6fcc2577dbf8987d20eb8c496d/href</a><p>After doing prediction on any dataset lets say we get a accuracy for 70% or 80% or lets say we are having some domain knowledge about the dataset and we need to increase either preicision or recall or both for our classification problems. <strong><em>How can we solve\\xa0that?</em></strong></p><h3>Hyper Parameters and RandomizedSearchCV for\\xa0tuning.</h3><p>There are various ways through which you can boost your accuracy from selecting various models on the basis of your analysis to tuning your hyper parameters for better accuracy but what are hyper parameters\\xa0?</p><p>Hyperparameters are parameters used to control the learning process of a machine learning algorithm you can understand them with this simple\\xa0example</p><figure><img alt=\"\" src=\"https://cdn-images-1.medium.com/max/1024/1*WHAubWuFPmu3V-mzFy6ZGw.jpeg\" /><figcaption><strong>Because I like\\xa0G-Wagon</strong></figcaption></figure><p>Assuming <strong>car</strong> is a machine learning <strong>model</strong>\\xa0, the car will only work efficiently enough if the <strong>engine of the car</strong> is tuned to <strong>support its speed </strong>considering all the loss in mielage and energy getting converted to heat. Without a good engine tuning car cannot work for longer and will not give best results. “<em>Well iam not a car expert but you got the\\xa0idea.”</em></p><p>Similarly random forest algorithm is like a car and the model can have various of its parameters tuned to get a better outcome or result and the values of parameters are derived via training. Follow the follwing example to better understand how to do hyperparameter tuning for random forest classifier.</p><a href=\"https://medium.com/media/06597d3795c4d794911ae1f5e404c8d9/href\">https://medium.com/media/06597d3795c4d794911ae1f5e404c8d9/href</a><p>This Example below shows how i tuned parameters using RandomizedSearchCV for my car price predction problem. First we need to declare random values for each parameter then we can use a dictionary to assign\\xa0values.</p><a href=\"https://medium.com/media/f1799b48b91322fde746e95c567b7ac4/href\">https://medium.com/media/f1799b48b91322fde746e95c567b7ac4/href</a><p>Now simply use a RandomizedSearchCV to start hyper parameter tuning you can also use GridSearchCV both of them are great. Here is the demonstration for\\xa0that.</p><a href=\"https://medium.com/media/74062c730a54add964509be45c44eb9d/href\">https://medium.com/media/74062c730a54add964509be45c44eb9d/href</a><p>Now you can change the scoring to neg_mean_squared_error if its for regression probelms or you can check different scoring attributes <a href=\"https://scikit-learn.org/stable/modules/model_evaluation.html#scoring-parameter\">clicking\\xa0here</a>.</p><p>Well now if you want to see <strong><em>all parameters</em></strong> and what they are you can either use <strong>Shift + Tab</strong> on jupyter notebook to check the docstring values and see all hyperparameters or you can also check below for all parameters and what are their\\xa0uses.</p><a href=\"https://medium.com/media/f139e7cc85775a1ca299823067926061/href\">https://medium.com/media/f139e7cc85775a1ca299823067926061/href</a><p>If you like reading this blog and want to start your project feel free to check out my<strong> </strong><a href=\"https://github.com/TusharNautiyal-web\"><strong><em>Github repositories</em></strong></a> where i have created end to end machine learning projects and check my youtube channel\\xa0: <a href=\"https://www.youtube.com/channel/UCsfYqXa3LoaLkB-9F2vmplA\"><strong><em>Tushar\\xa0Nautiyal</em></strong></a></p><img alt=\"\" height=\"1\" src=\"https://medium.com/_/stat?event=post.clientViewed&amp;referrerSource=full_rss&amp;postId=b36813f42201\" width=\"1\" />'}],\n",
       "  'summary': '<p><strong><em>Algorithm Article\\xa0Series</em></strong></p><figure><img alt=\"\" src=\"https://cdn-images-1.medium.com/max/1024/1*HgkCifP0KUDnYJOWsWaVBg.png\" /><figcaption>Title Image</figcaption></figure><p>This article, explore the famous <strong>supervised machine learning</strong> algorithm “<strong><em>Random Forests</em></strong>”. The aim of this article is to give you a holistic and intuitive understanding about how this algorithm works and what are its hyper parameters what all they\\xa0mean.</p><p>Lets get a basic introduction of our algorithm, <strong>Random Forest</strong> is an ensemble algorithm which uses <strong>bagging</strong> technique to predict a outcome. It fits a number of <strong>decision tree </strong>classifiers on various sub-samples of the dataset and uses averaging to improve the predictive accuracy and control over-fitting.</p><figure><img alt=\"\" src=\"https://cdn-images-1.medium.com/max/800/1*XwNxl-SHcBuu9mo09mPNPw.png\" /><figcaption>Bagging Works Parralely sedning some features with replacement to the\\xa0model</figcaption></figure><h3>Usage of Random Forest Algorithm</h3><p>To use random forest algorithm we can use a very popular machine learning library known as scikit-learn for python. We need to first import Random Forest Classifier for classification problems and Random Forest Regressor for regression problems.</p><a href=\"https://medium.com/media/7ad42a6fcc2577dbf8987d20eb8c496d/href\">https://medium.com/media/7ad42a6fcc2577dbf8987d20eb8c496d/href</a><p>After doing prediction on any dataset lets say we get a accuracy for 70% or 80% or lets say we are having some domain knowledge about the dataset and we need to increase either preicision or recall or both for our classification problems. <strong><em>How can we solve\\xa0that?</em></strong></p><h3>Hyper Parameters and RandomizedSearchCV for\\xa0tuning.</h3><p>There are various ways through which you can boost your accuracy from selecting various models on the basis of your analysis to tuning your hyper parameters for better accuracy but what are hyper parameters\\xa0?</p><p>Hyperparameters are parameters used to control the learning process of a machine learning algorithm you can understand them with this simple\\xa0example</p><figure><img alt=\"\" src=\"https://cdn-images-1.medium.com/max/1024/1*WHAubWuFPmu3V-mzFy6ZGw.jpeg\" /><figcaption><strong>Because I like\\xa0G-Wagon</strong></figcaption></figure><p>Assuming <strong>car</strong> is a machine learning <strong>model</strong>\\xa0, the car will only work efficiently enough if the <strong>engine of the car</strong> is tuned to <strong>support its speed </strong>considering all the loss in mielage and energy getting converted to heat. Without a good engine tuning car cannot work for longer and will not give best results. “<em>Well iam not a car expert but you got the\\xa0idea.”</em></p><p>Similarly random forest algorithm is like a car and the model can have various of its parameters tuned to get a better outcome or result and the values of parameters are derived via training. Follow the follwing example to better understand how to do hyperparameter tuning for random forest classifier.</p><a href=\"https://medium.com/media/06597d3795c4d794911ae1f5e404c8d9/href\">https://medium.com/media/06597d3795c4d794911ae1f5e404c8d9/href</a><p>This Example below shows how i tuned parameters using RandomizedSearchCV for my car price predction problem. First we need to declare random values for each parameter then we can use a dictionary to assign\\xa0values.</p><a href=\"https://medium.com/media/f1799b48b91322fde746e95c567b7ac4/href\">https://medium.com/media/f1799b48b91322fde746e95c567b7ac4/href</a><p>Now simply use a RandomizedSearchCV to start hyper parameter tuning you can also use GridSearchCV both of them are great. Here is the demonstration for\\xa0that.</p><a href=\"https://medium.com/media/74062c730a54add964509be45c44eb9d/href\">https://medium.com/media/74062c730a54add964509be45c44eb9d/href</a><p>Now you can change the scoring to neg_mean_squared_error if its for regression probelms or you can check different scoring attributes <a href=\"https://scikit-learn.org/stable/modules/model_evaluation.html#scoring-parameter\">clicking\\xa0here</a>.</p><p>Well now if you want to see <strong><em>all parameters</em></strong> and what they are you can either use <strong>Shift + Tab</strong> on jupyter notebook to check the docstring values and see all hyperparameters or you can also check below for all parameters and what are their\\xa0uses.</p><a href=\"https://medium.com/media/f139e7cc85775a1ca299823067926061/href\">https://medium.com/media/f139e7cc85775a1ca299823067926061/href</a><p>If you like reading this blog and want to start your project feel free to check out my<strong> </strong><a href=\"https://github.com/TusharNautiyal-web\"><strong><em>Github repositories</em></strong></a> where i have created end to end machine learning projects and check my youtube channel\\xa0: <a href=\"https://www.youtube.com/channel/UCsfYqXa3LoaLkB-9F2vmplA\"><strong><em>Tushar\\xa0Nautiyal</em></strong></a></p><img alt=\"\" height=\"1\" src=\"https://medium.com/_/stat?event=post.clientViewed&amp;referrerSource=full_rss&amp;postId=b36813f42201\" width=\"1\" />'}}"
      ]
     },
     "execution_count": 88,
     "metadata": {},
     "output_type": "execute_result"
    }
   ],
   "source": []
  },
  {
   "cell_type": "code",
   "execution_count": 85,
   "id": "b45e5727",
   "metadata": {},
   "outputs": [
    {
     "data": {
      "text/plain": [
       "{'title': 'Stories by Tushar Nautiyal on Medium',\n",
       " 'title_detail': {'type': 'text/plain',\n",
       "  'language': None,\n",
       "  'base': 'https://medium.com/feed/@tsa.vevo.music',\n",
       "  'value': 'Stories by Tushar Nautiyal on Medium'},\n",
       " 'subtitle': 'Stories by Tushar Nautiyal on Medium',\n",
       " 'subtitle_detail': {'type': 'text/html',\n",
       "  'language': None,\n",
       "  'base': 'https://medium.com/feed/@tsa.vevo.music',\n",
       "  'value': 'Stories by Tushar Nautiyal on Medium'},\n",
       " 'links': [{'rel': 'alternate',\n",
       "   'type': 'text/html',\n",
       "   'href': 'https://medium.com/@tsa.vevo.music?source=rss-79ed574ed73f------2'},\n",
       "  {'href': 'https://medium.com/@tsa.vevo.music/feed',\n",
       "   'rel': 'self',\n",
       "   'type': 'application/rss+xml'},\n",
       "  {'href': 'http://medium.superfeedr.com', 'rel': 'hub', 'type': 'text/html'}],\n",
       " 'link': 'https://medium.com/@tsa.vevo.music?source=rss-79ed574ed73f------2',\n",
       " 'image': {'href': 'https://cdn-images-1.medium.com/fit/c/150/150/1*vIiKIhvUTax_JqwnD_vSgA.jpeg',\n",
       "  'title': 'Stories by Tushar Nautiyal on Medium',\n",
       "  'title_detail': {'type': 'text/plain',\n",
       "   'language': None,\n",
       "   'base': 'https://medium.com/feed/@tsa.vevo.music',\n",
       "   'value': 'Stories by Tushar Nautiyal on Medium'},\n",
       "  'links': [{'rel': 'alternate',\n",
       "    'type': 'text/html',\n",
       "    'href': 'https://medium.com/@tsa.vevo.music?source=rss-79ed574ed73f------2'}],\n",
       "  'link': 'https://medium.com/@tsa.vevo.music?source=rss-79ed574ed73f------2'},\n",
       " 'generator_detail': {'name': 'Medium'},\n",
       " 'generator': 'Medium',\n",
       " 'updated': 'Sat, 16 Jul 2022 01:38:46 GMT',\n",
       " 'updated_parsed': time.struct_time(tm_year=2022, tm_mon=7, tm_mday=16, tm_hour=1, tm_min=38, tm_sec=46, tm_wday=5, tm_yday=197, tm_isdst=0),\n",
       " 'publisher': 'yourfriends@medium.com',\n",
       " 'publisher_detail': {'email': 'yourfriends@medium.com'}}"
      ]
     },
     "execution_count": 85,
     "metadata": {},
     "output_type": "execute_result"
    }
   ],
   "source": []
  },
  {
   "cell_type": "code",
   "execution_count": null,
   "id": "ae586b16",
   "metadata": {},
   "outputs": [],
   "source": []
  }
 ],
 "metadata": {
  "kernelspec": {
   "display_name": "Python 3 (ipykernel)",
   "language": "python",
   "name": "python3"
  },
  "language_info": {
   "codemirror_mode": {
    "name": "ipython",
    "version": 3
   },
   "file_extension": ".py",
   "mimetype": "text/x-python",
   "name": "python",
   "nbconvert_exporter": "python",
   "pygments_lexer": "ipython3",
   "version": "3.9.7"
  },
  "vscode": {
   "interpreter": {
    "hash": "0abfef323ec3d37ae28965e2fddbfe4c6d59d0a5906d3fe4d2208a56ce81f471"
   }
  }
 },
 "nbformat": 4,
 "nbformat_minor": 5
}
