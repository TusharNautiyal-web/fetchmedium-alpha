{
 "cells": [
  {
   "cell_type": "code",
   "execution_count": 122,
   "id": "d4a6cd14",
   "metadata": {},
   "outputs": [],
   "source": [
    "import feedparser\n",
    "import requests\n",
    "import pymongo \n",
    "from bs4 import BeautifulSoup as bs"
   ]
  },
  {
   "cell_type": "code",
   "execution_count": 18,
   "id": "30437f3c",
   "metadata": {
    "scrolled": true
   },
   "outputs": [
    {
     "data": {
      "text/plain": [
       "[<img alt=\"\" src=\"https://cdn-images-1.medium.com/max/1024/1*HgkCifP0KUDnYJOWsWaVBg.png\"/>,\n",
       " <img alt=\"\" src=\"https://cdn-images-1.medium.com/max/800/1*XwNxl-SHcBuu9mo09mPNPw.png\"/>,\n",
       " <img alt=\"\" src=\"https://cdn-images-1.medium.com/max/1024/1*WHAubWuFPmu3V-mzFy6ZGw.jpeg\"/>,\n",
       " <img alt=\"\" height=\"1\" src=\"https://medium.com/_/stat?event=post.clientViewed&amp;referrerSource=full_rss&amp;postId=b36813f42201\" width=\"1\"/>]"
      ]
     },
     "execution_count": 18,
     "metadata": {},
     "output_type": "execute_result"
    }
   ],
   "source": [
    "# from fastapi import FastAPI\n",
    "# app = FastAPI()\n",
    "\n",
    "from email import feedparser\n",
    "from turtle import end_fill\n",
    "import feedparser as feed\n",
    "import re\n",
    "\n",
    "\n",
    "username = '@tsa.vevo.music'\n",
    "url = f'https://medium.com/feed/{username}'\n",
    "info = feed.parse(url)\n",
    "\n",
    "# Conversion of rss and taking important parameters\n",
    "# and unfortunately but rss feeds gives top 10 recent output only\n",
    "\n",
    "data = info['entries']\n",
    "article_dict = {}\n",
    "for i,info in enumerate(data):\n",
    "    article_dict[f'article_{i}'] = info\n",
    "\n",
    "# Removing Unecessary things from the feed\n",
    "for article in article_dict:\n",
    "    article_dict[article].pop('title_detail')\n",
    "    if(article_dict[article].has_key('summary_detail')):\n",
    "        article_dict[article].pop('summary_detail')\n",
    "    article_dict[article].pop('links')\n",
    "    article_dict[article].pop('guidislink')\n",
    "    article_dict[article].pop('published_parsed')\n",
    "    article_dict[article].pop('authors')\n",
    "    article_dict[article].pop('author_detail')\n",
    "    article_dict[article].pop('updated_parsed')\n",
    "\n",
    "# Converting link from rss to normal\n",
    "for article in article_dict:\n",
    "    temp = str(article_dict[article]['link'])\n",
    "    article_dict[article]['link'] = temp.split('?',1)[0]\n",
    "test_str = article_dict['article_0']['content'][0]['value']\n",
    "\n",
    "# initializing tag\n",
    "from bs4 import BeautifulSoup as BSHTML\n",
    "soup = BSHTML(test_str)\n",
    "images = soup.findAll('img')\n",
    "images"
   ]
  },
  {
   "cell_type": "code",
   "execution_count": null,
   "id": "4833f902",
   "metadata": {},
   "outputs": [],
   "source": []
  },
  {
   "cell_type": "code",
   "execution_count": 17,
   "id": "4edb5812",
   "metadata": {
    "scrolled": true
   },
   "outputs": [
    {
     "ename": "AttributeError",
     "evalue": "object has no attribute 'feed'",
     "output_type": "error",
     "traceback": [
      "\u001b[1;31m---------------------------------------------------------------------------\u001b[0m",
      "\u001b[1;31mKeyError\u001b[0m                                  Traceback (most recent call last)",
      "File \u001b[1;32m~\\AppData\\Local\\Programs\\Python\\Python39\\lib\\site-packages\\feedparser\\util.py:156\u001b[0m, in \u001b[0;36mFeedParserDict.__getattr__\u001b[1;34m(self, key)\u001b[0m\n\u001b[0;32m    155\u001b[0m \u001b[38;5;28;01mtry\u001b[39;00m:\n\u001b[1;32m--> 156\u001b[0m     \u001b[38;5;28;01mreturn\u001b[39;00m \u001b[38;5;28;43mself\u001b[39;49m\u001b[38;5;241;43m.\u001b[39;49m\u001b[38;5;21;43m__getitem__\u001b[39;49m\u001b[43m(\u001b[49m\u001b[43mkey\u001b[49m\u001b[43m)\u001b[49m\n\u001b[0;32m    157\u001b[0m \u001b[38;5;28;01mexcept\u001b[39;00m \u001b[38;5;167;01mKeyError\u001b[39;00m:\n",
      "File \u001b[1;32m~\\AppData\\Local\\Programs\\Python\\Python39\\lib\\site-packages\\feedparser\\util.py:113\u001b[0m, in \u001b[0;36mFeedParserDict.__getitem__\u001b[1;34m(self, key)\u001b[0m\n\u001b[0;32m    112\u001b[0m         \u001b[38;5;28;01mreturn\u001b[39;00m \u001b[38;5;28mdict\u001b[39m\u001b[38;5;241m.\u001b[39m\u001b[38;5;21m__getitem__\u001b[39m(\u001b[38;5;28mself\u001b[39m, realkey)\n\u001b[1;32m--> 113\u001b[0m \u001b[38;5;28;01mreturn\u001b[39;00m \u001b[38;5;28;43mdict\u001b[39;49m\u001b[38;5;241;43m.\u001b[39;49m\u001b[38;5;21;43m__getitem__\u001b[39;49m\u001b[43m(\u001b[49m\u001b[38;5;28;43mself\u001b[39;49m\u001b[43m,\u001b[49m\u001b[43m \u001b[49m\u001b[43mkey\u001b[49m\u001b[43m)\u001b[49m\n",
      "\u001b[1;31mKeyError\u001b[0m: 'feed'",
      "\nDuring handling of the above exception, another exception occurred:\n",
      "\u001b[1;31mAttributeError\u001b[0m                            Traceback (most recent call last)",
      "Input \u001b[1;32mIn [17]\u001b[0m, in \u001b[0;36m<cell line: 1>\u001b[1;34m()\u001b[0m\n\u001b[1;32m----> 1\u001b[0m \u001b[43minfo\u001b[49m\u001b[38;5;241;43m.\u001b[39;49m\u001b[43mfeed\u001b[49m\n",
      "File \u001b[1;32m~\\AppData\\Local\\Programs\\Python\\Python39\\lib\\site-packages\\feedparser\\util.py:158\u001b[0m, in \u001b[0;36mFeedParserDict.__getattr__\u001b[1;34m(self, key)\u001b[0m\n\u001b[0;32m    156\u001b[0m     \u001b[38;5;28;01mreturn\u001b[39;00m \u001b[38;5;28mself\u001b[39m\u001b[38;5;241m.\u001b[39m\u001b[38;5;21m__getitem__\u001b[39m(key)\n\u001b[0;32m    157\u001b[0m \u001b[38;5;28;01mexcept\u001b[39;00m \u001b[38;5;167;01mKeyError\u001b[39;00m:\n\u001b[1;32m--> 158\u001b[0m     \u001b[38;5;28;01mraise\u001b[39;00m \u001b[38;5;167;01mAttributeError\u001b[39;00m(\u001b[38;5;124m\"\u001b[39m\u001b[38;5;124mobject has no attribute \u001b[39m\u001b[38;5;124m'\u001b[39m\u001b[38;5;132;01m%s\u001b[39;00m\u001b[38;5;124m'\u001b[39m\u001b[38;5;124m\"\u001b[39m \u001b[38;5;241m%\u001b[39m key)\n",
      "\u001b[1;31mAttributeError\u001b[0m: object has no attribute 'feed'"
     ]
    }
   ],
   "source": [
    "info.feed"
   ]
  },
  {
   "cell_type": "code",
   "execution_count": 86,
   "id": "94990a65",
   "metadata": {},
   "outputs": [],
   "source": [
    "info = feed.parse(url)\n",
    "user_data  = info.feed\n",
    "user_data['profile_pic'] = user_data['image'].href\n",
    "user_data['link'] = str(user_data['link']).split('?',1)[0]\n",
    "unecessary = ['title_detail','subtitle','subtitle_detail','links','generator_detail','image','updated_parsed','publisher','publisher_detail'] \n",
    "for e in unecessary: \n",
    "    user_data.pop(e)\n",
    "\n",
    "# fixing image settings\n",
    "\n",
    "\n"
   ]
  },
  {
   "cell_type": "code",
   "execution_count": 87,
   "id": "d3b5ae6f",
   "metadata": {},
   "outputs": [
    {
     "data": {
      "text/plain": [
       "{'title': 'Stories by Tushar Nautiyal on Medium',\n",
       " 'link': 'https://medium.com/@tsa.vevo.music',\n",
       " 'generator': 'Medium',\n",
       " 'updated': 'Sat, 16 Jul 2022 01:38:46 GMT',\n",
       " 'profile_pic': 'https://cdn-images-1.medium.com/fit/c/150/150/1*vIiKIhvUTax_JqwnD_vSgA.jpeg'}"
      ]
     },
     "execution_count": 87,
     "metadata": {},
     "output_type": "execute_result"
    }
   ],
   "source": [
    "user_data"
   ]
  },
  {
   "cell_type": "code",
   "execution_count": 88,
   "id": "f85d3acb",
   "metadata": {},
   "outputs": [
    {
     "data": {
      "text/plain": [
       "{'article_0': {'title': 'Hyper Parameter Tuning of Random Forest Algorithim.',\n",
       "  'link': 'https://medium.com/@tsa.vevo.music/hyper-parameter-tuning-of-random-forest-algorithim-b36813f42201',\n",
       "  'id': 'https://medium.com/p/b36813f42201',\n",
       "  'tags': [{'term': 'data-science', 'scheme': None, 'label': None},\n",
       "   {'term': 'data-analysis', 'scheme': None, 'label': None},\n",
       "   {'term': 'machine-learning', 'scheme': None, 'label': None}],\n",
       "  'author': 'Tushar Nautiyal',\n",
       "  'published': 'Wed, 13 Jul 2022 11:43:48 GMT',\n",
       "  'updated': '2022-07-13T11:44:58.235Z',\n",
       "  'content': [{'type': 'text/html',\n",
       "    'language': None,\n",
       "    'base': 'https://medium.com/feed/@tsa.vevo.music',\n",
       "    'value': '<p><strong><em>Algorithm Article\\xa0Series</em></strong></p><figure><img alt=\"\" src=\"https://cdn-images-1.medium.com/max/1024/1*HgkCifP0KUDnYJOWsWaVBg.png\" /><figcaption>Title Image</figcaption></figure><p>This article, explore the famous <strong>supervised machine learning</strong> algorithm “<strong><em>Random Forests</em></strong>”. The aim of this article is to give you a holistic and intuitive understanding about how this algorithm works and what are its hyper parameters what all they\\xa0mean.</p><p>Lets get a basic introduction of our algorithm, <strong>Random Forest</strong> is an ensemble algorithm which uses <strong>bagging</strong> technique to predict a outcome. It fits a number of <strong>decision tree </strong>classifiers on various sub-samples of the dataset and uses averaging to improve the predictive accuracy and control over-fitting.</p><figure><img alt=\"\" src=\"https://cdn-images-1.medium.com/max/800/1*XwNxl-SHcBuu9mo09mPNPw.png\" /><figcaption>Bagging Works Parralely sedning some features with replacement to the\\xa0model</figcaption></figure><h3>Usage of Random Forest Algorithm</h3><p>To use random forest algorithm we can use a very popular machine learning library known as scikit-learn for python. We need to first import Random Forest Classifier for classification problems and Random Forest Regressor for regression problems.</p><a href=\"https://medium.com/media/7ad42a6fcc2577dbf8987d20eb8c496d/href\">https://medium.com/media/7ad42a6fcc2577dbf8987d20eb8c496d/href</a><p>After doing prediction on any dataset lets say we get a accuracy for 70% or 80% or lets say we are having some domain knowledge about the dataset and we need to increase either preicision or recall or both for our classification problems. <strong><em>How can we solve\\xa0that?</em></strong></p><h3>Hyper Parameters and RandomizedSearchCV for\\xa0tuning.</h3><p>There are various ways through which you can boost your accuracy from selecting various models on the basis of your analysis to tuning your hyper parameters for better accuracy but what are hyper parameters\\xa0?</p><p>Hyperparameters are parameters used to control the learning process of a machine learning algorithm you can understand them with this simple\\xa0example</p><figure><img alt=\"\" src=\"https://cdn-images-1.medium.com/max/1024/1*WHAubWuFPmu3V-mzFy6ZGw.jpeg\" /><figcaption><strong>Because I like\\xa0G-Wagon</strong></figcaption></figure><p>Assuming <strong>car</strong> is a machine learning <strong>model</strong>\\xa0, the car will only work efficiently enough if the <strong>engine of the car</strong> is tuned to <strong>support its speed </strong>considering all the loss in mielage and energy getting converted to heat. Without a good engine tuning car cannot work for longer and will not give best results. “<em>Well iam not a car expert but you got the\\xa0idea.”</em></p><p>Similarly random forest algorithm is like a car and the model can have various of its parameters tuned to get a better outcome or result and the values of parameters are derived via training. Follow the follwing example to better understand how to do hyperparameter tuning for random forest classifier.</p><a href=\"https://medium.com/media/06597d3795c4d794911ae1f5e404c8d9/href\">https://medium.com/media/06597d3795c4d794911ae1f5e404c8d9/href</a><p>This Example below shows how i tuned parameters using RandomizedSearchCV for my car price predction problem. First we need to declare random values for each parameter then we can use a dictionary to assign\\xa0values.</p><a href=\"https://medium.com/media/f1799b48b91322fde746e95c567b7ac4/href\">https://medium.com/media/f1799b48b91322fde746e95c567b7ac4/href</a><p>Now simply use a RandomizedSearchCV to start hyper parameter tuning you can also use GridSearchCV both of them are great. Here is the demonstration for\\xa0that.</p><a href=\"https://medium.com/media/74062c730a54add964509be45c44eb9d/href\">https://medium.com/media/74062c730a54add964509be45c44eb9d/href</a><p>Now you can change the scoring to neg_mean_squared_error if its for regression probelms or you can check different scoring attributes <a href=\"https://scikit-learn.org/stable/modules/model_evaluation.html#scoring-parameter\">clicking\\xa0here</a>.</p><p>Well now if you want to see <strong><em>all parameters</em></strong> and what they are you can either use <strong>Shift + Tab</strong> on jupyter notebook to check the docstring values and see all hyperparameters or you can also check below for all parameters and what are their\\xa0uses.</p><a href=\"https://medium.com/media/f139e7cc85775a1ca299823067926061/href\">https://medium.com/media/f139e7cc85775a1ca299823067926061/href</a><p>If you like reading this blog and want to start your project feel free to check out my<strong> </strong><a href=\"https://github.com/TusharNautiyal-web\"><strong><em>Github repositories</em></strong></a> where i have created end to end machine learning projects and check my youtube channel\\xa0: <a href=\"https://www.youtube.com/channel/UCsfYqXa3LoaLkB-9F2vmplA\"><strong><em>Tushar\\xa0Nautiyal</em></strong></a></p><img alt=\"\" height=\"1\" src=\"https://medium.com/_/stat?event=post.clientViewed&amp;referrerSource=full_rss&amp;postId=b36813f42201\" width=\"1\" />'}],\n",
       "  'summary': '<p><strong><em>Algorithm Article\\xa0Series</em></strong></p><figure><img alt=\"\" src=\"https://cdn-images-1.medium.com/max/1024/1*HgkCifP0KUDnYJOWsWaVBg.png\" /><figcaption>Title Image</figcaption></figure><p>This article, explore the famous <strong>supervised machine learning</strong> algorithm “<strong><em>Random Forests</em></strong>”. The aim of this article is to give you a holistic and intuitive understanding about how this algorithm works and what are its hyper parameters what all they\\xa0mean.</p><p>Lets get a basic introduction of our algorithm, <strong>Random Forest</strong> is an ensemble algorithm which uses <strong>bagging</strong> technique to predict a outcome. It fits a number of <strong>decision tree </strong>classifiers on various sub-samples of the dataset and uses averaging to improve the predictive accuracy and control over-fitting.</p><figure><img alt=\"\" src=\"https://cdn-images-1.medium.com/max/800/1*XwNxl-SHcBuu9mo09mPNPw.png\" /><figcaption>Bagging Works Parralely sedning some features with replacement to the\\xa0model</figcaption></figure><h3>Usage of Random Forest Algorithm</h3><p>To use random forest algorithm we can use a very popular machine learning library known as scikit-learn for python. We need to first import Random Forest Classifier for classification problems and Random Forest Regressor for regression problems.</p><a href=\"https://medium.com/media/7ad42a6fcc2577dbf8987d20eb8c496d/href\">https://medium.com/media/7ad42a6fcc2577dbf8987d20eb8c496d/href</a><p>After doing prediction on any dataset lets say we get a accuracy for 70% or 80% or lets say we are having some domain knowledge about the dataset and we need to increase either preicision or recall or both for our classification problems. <strong><em>How can we solve\\xa0that?</em></strong></p><h3>Hyper Parameters and RandomizedSearchCV for\\xa0tuning.</h3><p>There are various ways through which you can boost your accuracy from selecting various models on the basis of your analysis to tuning your hyper parameters for better accuracy but what are hyper parameters\\xa0?</p><p>Hyperparameters are parameters used to control the learning process of a machine learning algorithm you can understand them with this simple\\xa0example</p><figure><img alt=\"\" src=\"https://cdn-images-1.medium.com/max/1024/1*WHAubWuFPmu3V-mzFy6ZGw.jpeg\" /><figcaption><strong>Because I like\\xa0G-Wagon</strong></figcaption></figure><p>Assuming <strong>car</strong> is a machine learning <strong>model</strong>\\xa0, the car will only work efficiently enough if the <strong>engine of the car</strong> is tuned to <strong>support its speed </strong>considering all the loss in mielage and energy getting converted to heat. Without a good engine tuning car cannot work for longer and will not give best results. “<em>Well iam not a car expert but you got the\\xa0idea.”</em></p><p>Similarly random forest algorithm is like a car and the model can have various of its parameters tuned to get a better outcome or result and the values of parameters are derived via training. Follow the follwing example to better understand how to do hyperparameter tuning for random forest classifier.</p><a href=\"https://medium.com/media/06597d3795c4d794911ae1f5e404c8d9/href\">https://medium.com/media/06597d3795c4d794911ae1f5e404c8d9/href</a><p>This Example below shows how i tuned parameters using RandomizedSearchCV for my car price predction problem. First we need to declare random values for each parameter then we can use a dictionary to assign\\xa0values.</p><a href=\"https://medium.com/media/f1799b48b91322fde746e95c567b7ac4/href\">https://medium.com/media/f1799b48b91322fde746e95c567b7ac4/href</a><p>Now simply use a RandomizedSearchCV to start hyper parameter tuning you can also use GridSearchCV both of them are great. Here is the demonstration for\\xa0that.</p><a href=\"https://medium.com/media/74062c730a54add964509be45c44eb9d/href\">https://medium.com/media/74062c730a54add964509be45c44eb9d/href</a><p>Now you can change the scoring to neg_mean_squared_error if its for regression probelms or you can check different scoring attributes <a href=\"https://scikit-learn.org/stable/modules/model_evaluation.html#scoring-parameter\">clicking\\xa0here</a>.</p><p>Well now if you want to see <strong><em>all parameters</em></strong> and what they are you can either use <strong>Shift + Tab</strong> on jupyter notebook to check the docstring values and see all hyperparameters or you can also check below for all parameters and what are their\\xa0uses.</p><a href=\"https://medium.com/media/f139e7cc85775a1ca299823067926061/href\">https://medium.com/media/f139e7cc85775a1ca299823067926061/href</a><p>If you like reading this blog and want to start your project feel free to check out my<strong> </strong><a href=\"https://github.com/TusharNautiyal-web\"><strong><em>Github repositories</em></strong></a> where i have created end to end machine learning projects and check my youtube channel\\xa0: <a href=\"https://www.youtube.com/channel/UCsfYqXa3LoaLkB-9F2vmplA\"><strong><em>Tushar\\xa0Nautiyal</em></strong></a></p><img alt=\"\" height=\"1\" src=\"https://medium.com/_/stat?event=post.clientViewed&amp;referrerSource=full_rss&amp;postId=b36813f42201\" width=\"1\" />'}}"
      ]
     },
     "execution_count": 88,
     "metadata": {},
     "output_type": "execute_result"
    }
   ],
   "source": []
  },
  {
   "cell_type": "code",
   "execution_count": 85,
   "id": "56c3dc00",
   "metadata": {},
   "outputs": [
    {
     "data": {
      "text/plain": [
       "{'title': 'Stories by Tushar Nautiyal on Medium',\n",
       " 'title_detail': {'type': 'text/plain',\n",
       "  'language': None,\n",
       "  'base': 'https://medium.com/feed/@tsa.vevo.music',\n",
       "  'value': 'Stories by Tushar Nautiyal on Medium'},\n",
       " 'subtitle': 'Stories by Tushar Nautiyal on Medium',\n",
       " 'subtitle_detail': {'type': 'text/html',\n",
       "  'language': None,\n",
       "  'base': 'https://medium.com/feed/@tsa.vevo.music',\n",
       "  'value': 'Stories by Tushar Nautiyal on Medium'},\n",
       " 'links': [{'rel': 'alternate',\n",
       "   'type': 'text/html',\n",
       "   'href': 'https://medium.com/@tsa.vevo.music?source=rss-79ed574ed73f------2'},\n",
       "  {'href': 'https://medium.com/@tsa.vevo.music/feed',\n",
       "   'rel': 'self',\n",
       "   'type': 'application/rss+xml'},\n",
       "  {'href': 'http://medium.superfeedr.com', 'rel': 'hub', 'type': 'text/html'}],\n",
       " 'link': 'https://medium.com/@tsa.vevo.music?source=rss-79ed574ed73f------2',\n",
       " 'image': {'href': 'https://cdn-images-1.medium.com/fit/c/150/150/1*vIiKIhvUTax_JqwnD_vSgA.jpeg',\n",
       "  'title': 'Stories by Tushar Nautiyal on Medium',\n",
       "  'title_detail': {'type': 'text/plain',\n",
       "   'language': None,\n",
       "   'base': 'https://medium.com/feed/@tsa.vevo.music',\n",
       "   'value': 'Stories by Tushar Nautiyal on Medium'},\n",
       "  'links': [{'rel': 'alternate',\n",
       "    'type': 'text/html',\n",
       "    'href': 'https://medium.com/@tsa.vevo.music?source=rss-79ed574ed73f------2'}],\n",
       "  'link': 'https://medium.com/@tsa.vevo.music?source=rss-79ed574ed73f------2'},\n",
       " 'generator_detail': {'name': 'Medium'},\n",
       " 'generator': 'Medium',\n",
       " 'updated': 'Sat, 16 Jul 2022 01:38:46 GMT',\n",
       " 'updated_parsed': time.struct_time(tm_year=2022, tm_mon=7, tm_mday=16, tm_hour=1, tm_min=38, tm_sec=46, tm_wday=5, tm_yday=197, tm_isdst=0),\n",
       " 'publisher': 'yourfriends@medium.com',\n",
       " 'publisher_detail': {'email': 'yourfriends@medium.com'}}"
      ]
     },
     "execution_count": 85,
     "metadata": {},
     "output_type": "execute_result"
    }
   ],
   "source": []
  },
  {
   "cell_type": "code",
   "execution_count": 136,
   "id": "fda4072c",
   "metadata": {},
   "outputs": [
    {
     "data": {
      "text/plain": [
       "[]"
      ]
     },
     "execution_count": 136,
     "metadata": {},
     "output_type": "execute_result"
    }
   ],
   "source": [
    "info = feed.parse('http://medium.com/feed/@tsa.vevo.music/latest?format=json')\n",
    "info.entries"
   ]
  },
  {
   "cell_type": "code",
   "execution_count": 97,
   "id": "84721cab",
   "metadata": {},
   "outputs": [],
   "source": [
    "tag = 'data-science'\n",
    "data_dict = {}\n",
    "url = f'http://medium.com/feed/tag/{tag}'\n",
    "data = feed.parse(url)\n",
    "for i,d in enumerate(data.entries):\n",
    "    data_dict[f\"article_{i}\"] = data.entries[i]"
   ]
  },
  {
   "cell_type": "code",
   "execution_count": 58,
   "id": "560c3d51",
   "metadata": {},
   "outputs": [
    {
     "ename": "KeyError",
     "evalue": "0",
     "output_type": "error",
     "traceback": [
      "\u001b[1;31m---------------------------------------------------------------------------\u001b[0m",
      "\u001b[1;31mKeyError\u001b[0m                                  Traceback (most recent call last)",
      "Input \u001b[1;32mIn [58]\u001b[0m, in \u001b[0;36m<cell line: 2>\u001b[1;34m()\u001b[0m\n\u001b[0;32m      1\u001b[0m l1 \u001b[38;5;241m=\u001b[39m [\u001b[38;5;124m\"\u001b[39m\u001b[38;5;124mtitle_detail\u001b[39m\u001b[38;5;124m\"\u001b[39m,\u001b[38;5;124m\"\u001b[39m\u001b[38;5;124mid\u001b[39m\u001b[38;5;124m\"\u001b[39m,\u001b[38;5;124m\"\u001b[39m\u001b[38;5;124mguidislink\u001b[39m\u001b[38;5;124m\"\u001b[39m,\u001b[38;5;124m\"\u001b[39m\u001b[38;5;124mauthors\u001b[39m\u001b[38;5;124m\"\u001b[39m,\u001b[38;5;124m\"\u001b[39m\u001b[38;5;124mpublished_parsed\u001b[39m\u001b[38;5;124m\"\u001b[39m,\u001b[38;5;124m\"\u001b[39m\u001b[38;5;124mupdated_parsed\u001b[39m\u001b[38;5;124m\"\u001b[39m]\n\u001b[0;32m      2\u001b[0m \u001b[38;5;28;01mfor\u001b[39;00m items \u001b[38;5;129;01min\u001b[39;00m l1:\n\u001b[1;32m----> 3\u001b[0m     \u001b[43mdata_dict\u001b[49m\u001b[43m[\u001b[49m\u001b[38;5;241;43m0\u001b[39;49m\u001b[43m]\u001b[49m[items]\n",
      "\u001b[1;31mKeyError\u001b[0m: 0"
     ]
    }
   ],
   "source": [
    "l1 = [\"title_detail\",\"id\",\"guidislink\",\"authors\",\"published_parsed\",\"updated_parsed\"]\n",
    "for items in l1:\n",
    "    data_dict[\"\"]"
   ]
  },
  {
   "cell_type": "code",
   "execution_count": 80,
   "id": "0f2c2a6e",
   "metadata": {},
   "outputs": [
    {
     "data": {
      "text/plain": [
       "{'title': 'How is the Machine learning life cycle going?',\n",
       " 'title_detail': {'type': 'text/plain',\n",
       "  'language': None,\n",
       "  'base': 'https://medium.com/feed/tag/data-science',\n",
       "  'value': 'How is the Machine learning life cycle going?'},\n",
       " 'summary': '<div class=\"medium-feed-item\"><p class=\"medium-feed-image\"><a href=\"https://mohamedbakrey094.medium.com/how-is-the-machine-learning-life-cycle-going-3b628c4d0433?source=rss------data_science-5\"><img src=\"https://cdn-images-1.medium.com/max/600/1*b31hiO4ynbDLRrXWEFF4aQ.png\" width=\"600\" /></a></p><p class=\"medium-feed-snippet\">Introduction</p><p class=\"medium-feed-link\"><a href=\"https://mohamedbakrey094.medium.com/how-is-the-machine-learning-life-cycle-going-3b628c4d0433?source=rss------data_science-5\">Continue reading on Medium »</a></p></div>',\n",
       " 'summary_detail': {'type': 'text/html',\n",
       "  'language': None,\n",
       "  'base': 'https://medium.com/feed/tag/data-science',\n",
       "  'value': '<div class=\"medium-feed-item\"><p class=\"medium-feed-image\"><a href=\"https://mohamedbakrey094.medium.com/how-is-the-machine-learning-life-cycle-going-3b628c4d0433?source=rss------data_science-5\"><img src=\"https://cdn-images-1.medium.com/max/600/1*b31hiO4ynbDLRrXWEFF4aQ.png\" width=\"600\" /></a></p><p class=\"medium-feed-snippet\">Introduction</p><p class=\"medium-feed-link\"><a href=\"https://mohamedbakrey094.medium.com/how-is-the-machine-learning-life-cycle-going-3b628c4d0433?source=rss------data_science-5\">Continue reading on Medium »</a></p></div>'},\n",
       " 'links': [{'rel': 'alternate',\n",
       "   'type': 'text/html',\n",
       "   'href': 'https://mohamedbakrey094.medium.com/how-is-the-machine-learning-life-cycle-going-3b628c4d0433?source=rss------data_science-5'}],\n",
       " 'link': 'https://mohamedbakrey094.medium.com/how-is-the-machine-learning-life-cycle-going-3b628c4d0433?source=rss------data_science-5',\n",
       " 'id': 'https://medium.com/p/3b628c4d0433',\n",
       " 'guidislink': False,\n",
       " 'tags': [{'term': 'data-science', 'scheme': None, 'label': None},\n",
       "  {'term': 'data', 'scheme': None, 'label': None},\n",
       "  {'term': 'data-visualization', 'scheme': None, 'label': None},\n",
       "  {'term': 'ai', 'scheme': None, 'label': None}],\n",
       " 'authors': [{'name': 'Mohamed Bakrey'}],\n",
       " 'author': 'Mohamed Bakrey',\n",
       " 'author_detail': {'name': 'Mohamed Bakrey'},\n",
       " 'published': 'Sun, 17 Jul 2022 09:17:20 GMT',\n",
       " 'published_parsed': time.struct_time(tm_year=2022, tm_mon=7, tm_mday=17, tm_hour=9, tm_min=17, tm_sec=20, tm_wday=6, tm_yday=198, tm_isdst=0),\n",
       " 'updated': '2022-07-17T09:17:20.678Z',\n",
       " 'updated_parsed': time.struct_time(tm_year=2022, tm_mon=7, tm_mday=17, tm_hour=9, tm_min=17, tm_sec=20, tm_wday=6, tm_yday=198, tm_isdst=0)}"
      ]
     },
     "execution_count": 80,
     "metadata": {},
     "output_type": "execute_result"
    }
   ],
   "source": [
    "data_dict['article_9']"
   ]
  },
  {
   "cell_type": "code",
   "execution_count": 87,
   "id": "24e7fc34",
   "metadata": {},
   "outputs": [],
   "source": [
    "pop_list1 = [\"title_detail\",\"id\",\"guidislink\",\"authors\",\"published_parsed\",\"updated_parsed\"]\n",
    "for article in data_dict:\n",
    "    for items in pop_list1:\n",
    "        if(data_dict[article].has_key(\"summary_detail\")):\n",
    "            data_dict[article].pop(items)\n",
    "            data_dict[article].pop(\"summary_detail\")\n",
    "        else:\n",
    "            data_dict[article].pop(items)"
   ]
  },
  {
   "cell_type": "code",
   "execution_count": 86,
   "id": "bb1903ed",
   "metadata": {},
   "outputs": [
    {
     "name": "stdout",
     "output_type": "stream",
     "text": [
      "{'type': 'text/plain', 'language': None, 'base': 'https://medium.com/feed/tag/data-science', 'value': 'Tutorial 2\\xa0: Tracking the changes using Git'}\n"
     ]
    }
   ],
   "source": [
    "article = 'article_1'\n",
    "if(data_dict[article].has_key(\"title_detail\")):\n",
    "    print(data_dict[article]['title_detail'])"
   ]
  },
  {
   "cell_type": "code",
   "execution_count": 88,
   "id": "647870c4",
   "metadata": {},
   "outputs": [
    {
     "data": {
      "text/plain": [
       "{'title': 'The limits of big data and data science',\n",
       " 'summary': '<div class=\"medium-feed-item\"><p class=\"medium-feed-image\"><a href=\"https://medium.com/@YoussefNava/the-limits-of-big-data-and-data-science-b1a85c60f2c?source=rss------data_science-5\"><img src=\"https://cdn-images-1.medium.com/max/960/1*OYA2nuVcenVUbqML2qOBdw.jpeg\" width=\"960\" /></a></p><p class=\"medium-feed-snippet\">We are in the middle of the heat wave. Heat waves follow one after the other and we protect ourselves as best we can. I hardly leave the&#x2026;</p><p class=\"medium-feed-link\"><a href=\"https://medium.com/@YoussefNava/the-limits-of-big-data-and-data-science-b1a85c60f2c?source=rss------data_science-5\">Continue reading on Medium »</a></p></div>',\n",
       " 'links': [{'rel': 'alternate',\n",
       "   'type': 'text/html',\n",
       "   'href': 'https://medium.com/@YoussefNava/the-limits-of-big-data-and-data-science-b1a85c60f2c?source=rss------data_science-5'}],\n",
       " 'link': 'https://medium.com/@YoussefNava/the-limits-of-big-data-and-data-science-b1a85c60f2c?source=rss------data_science-5',\n",
       " 'tags': [{'term': 'revolution', 'scheme': None, 'label': None},\n",
       "  {'term': 'psychology', 'scheme': None, 'label': None},\n",
       "  {'term': 'society', 'scheme': None, 'label': None},\n",
       "  {'term': 'big-data', 'scheme': None, 'label': None},\n",
       "  {'term': 'data-science', 'scheme': None, 'label': None}],\n",
       " 'author': 'Youssef Nava',\n",
       " 'author_detail': {'name': 'Youssef Nava'},\n",
       " 'published': 'Sun, 17 Jul 2022 11:36:13 GMT',\n",
       " 'updated': '2022-07-17T11:36:13.665Z'}"
      ]
     },
     "execution_count": 88,
     "metadata": {},
     "output_type": "execute_result"
    }
   ],
   "source": [
    "data_dict['article_0']"
   ]
  },
  {
   "cell_type": "code",
   "execution_count": 90,
   "id": "fa9f3bc4",
   "metadata": {},
   "outputs": [],
   "source": [
    "for article in data_dict:\n",
    "        link = data_dict[article][\"link\"]\n",
    "        data_dict[article][\"link\"] = link.split('?',1)[0]"
   ]
  },
  {
   "cell_type": "code",
   "execution_count": 91,
   "id": "6a69fa73",
   "metadata": {},
   "outputs": [
    {
     "data": {
      "text/plain": [
       "{'title': 'The limits of big data and data science',\n",
       " 'summary': '<div class=\"medium-feed-item\"><p class=\"medium-feed-image\"><a href=\"https://medium.com/@YoussefNava/the-limits-of-big-data-and-data-science-b1a85c60f2c?source=rss------data_science-5\"><img src=\"https://cdn-images-1.medium.com/max/960/1*OYA2nuVcenVUbqML2qOBdw.jpeg\" width=\"960\" /></a></p><p class=\"medium-feed-snippet\">We are in the middle of the heat wave. Heat waves follow one after the other and we protect ourselves as best we can. I hardly leave the&#x2026;</p><p class=\"medium-feed-link\"><a href=\"https://medium.com/@YoussefNava/the-limits-of-big-data-and-data-science-b1a85c60f2c?source=rss------data_science-5\">Continue reading on Medium »</a></p></div>',\n",
       " 'links': 'https://medium.com/@YoussefNava/the-limits-of-big-data-and-data-science-b1a85c60f2c',\n",
       " 'link': 'https://medium.com/@YoussefNava/the-limits-of-big-data-and-data-science-b1a85c60f2c?source=rss------data_science-5',\n",
       " 'tags': [{'term': 'revolution', 'scheme': None, 'label': None},\n",
       "  {'term': 'psychology', 'scheme': None, 'label': None},\n",
       "  {'term': 'society', 'scheme': None, 'label': None},\n",
       "  {'term': 'big-data', 'scheme': None, 'label': None},\n",
       "  {'term': 'data-science', 'scheme': None, 'label': None}],\n",
       " 'author': 'Youssef Nava',\n",
       " 'author_detail': {'name': 'Youssef Nava'},\n",
       " 'published': 'Sun, 17 Jul 2022 11:36:13 GMT',\n",
       " 'updated': '2022-07-17T11:36:13.665Z'}"
      ]
     },
     "execution_count": 91,
     "metadata": {},
     "output_type": "execute_result"
    }
   ],
   "source": [
    "data_dict['article_0']"
   ]
  },
  {
   "cell_type": "code",
   "execution_count": 125,
   "id": "1ef656b7",
   "metadata": {},
   "outputs": [
    {
     "data": {
      "text/plain": [
       "{'article_0': 'https://cdn-images-1.medium.com/max/631/1*lyRu2FHtE1DZBGC5ddpRhg.jpeg',\n",
       " 'article_1': 'https://cdn-images-1.medium.com/max/631/1*lyRu2FHtE1DZBGC5ddpRhg.jpeg',\n",
       " 'article_2': 'https://cdn-images-1.medium.com/max/631/1*lyRu2FHtE1DZBGC5ddpRhg.jpeg',\n",
       " 'article_3': 'https://cdn-images-1.medium.com/max/631/1*lyRu2FHtE1DZBGC5ddpRhg.jpeg',\n",
       " 'article_4': 'https://cdn-images-1.medium.com/max/631/1*lyRu2FHtE1DZBGC5ddpRhg.jpeg',\n",
       " 'article_5': 'https://cdn-images-1.medium.com/max/631/1*lyRu2FHtE1DZBGC5ddpRhg.jpeg',\n",
       " 'article_6': 'https://cdn-images-1.medium.com/max/631/1*lyRu2FHtE1DZBGC5ddpRhg.jpeg',\n",
       " 'article_7': 'https://cdn-images-1.medium.com/max/631/1*lyRu2FHtE1DZBGC5ddpRhg.jpeg',\n",
       " 'article_8': 'https://cdn-images-1.medium.com/max/631/1*lyRu2FHtE1DZBGC5ddpRhg.jpeg',\n",
       " 'article_9': 'https://cdn-images-1.medium.com/max/631/1*lyRu2FHtE1DZBGC5ddpRhg.jpeg'}"
      ]
     },
     "execution_count": 125,
     "metadata": {},
     "output_type": "execute_result"
    }
   ],
   "source": [
    "def get_all_images(article_dict,feed,image_value = 'thumbnail',):\n",
    "    article_wise_images = {}\n",
    "    thumbnail_image = {}\n",
    "    temp = []\n",
    "    if(feed == 'user'):   \n",
    "        for article in article_dict: \n",
    "            content = article_dict[article]['content'][0]['value']\n",
    "            soup = bs(content,features=\"lxml\")\n",
    "            images = soup.findAll('img')\n",
    "            for img in images:\n",
    "                if img.has_attr('src'):\n",
    "                     temp.append(img['src'])\n",
    "            article_wise_images[article] = temp\n",
    "            thumbnail_image[article] = temp[0] \n",
    "            \n",
    "    if(feed == 'tag'):\n",
    "        for article in article_dict: \n",
    "            content = article_dict[article]['summary']\n",
    "            soup = bs(content)\n",
    "            images = soup.findAll('img')\n",
    "            for img in images:\n",
    "                if img.has_attr('src'):\n",
    "                     temp.append(img['src'])\n",
    "            article_wise_images[article] = temp\n",
    "            thumbnail_image[article] = temp[0]\n",
    "    \n",
    "    if(image_value == 'all'):\n",
    "        return article_wise_images\n",
    "    elif(image_value == 'thumbnail'):\n",
    "        return thumbnail_image\n",
    "    \n",
    "all_images = get_all_images(data_dict,\"tag\",image_value = \"all\")\n",
    "thumbnails =  get_all_images(data_dict,\"tag\",image_value = \"thumbnail\")\n",
    "# for article in data_dict:\n",
    "#     data_dict[article]['image_links'] = all_images[article]\n",
    "#     data_dict[article]['thumbnail'] = thumbnails[article]\n",
    "# data_dict\n",
    "thumbnails"
   ]
  },
  {
   "cell_type": "code",
   "execution_count": 115,
   "id": "6a756d30",
   "metadata": {},
   "outputs": [],
   "source": [
    "article_wise_images = {}\n",
    "thumbnail_image = {}\n",
    "temp = []\n",
    "for article in data_dict: \n",
    "            content = data_dict[article]['summary']\n",
    "            soup = bs(content)\n",
    "            images = soup.findAll('img')\n",
    "            for img in images:\n",
    "                if img.has_attr('src'):\n",
    "                     temp.append(img['src'])\n",
    "            article_wise_images[article] = temp\n",
    "            thumbnail_image[article] = temp[0]"
   ]
  },
  {
   "cell_type": "code",
   "execution_count": 117,
   "id": "1554807a",
   "metadata": {},
   "outputs": [
    {
     "data": {
      "text/plain": [
       "{'article_0': 'https://cdn-images-1.medium.com/max/631/1*lyRu2FHtE1DZBGC5ddpRhg.jpeg',\n",
       " 'article_1': 'https://cdn-images-1.medium.com/max/631/1*lyRu2FHtE1DZBGC5ddpRhg.jpeg',\n",
       " 'article_2': 'https://cdn-images-1.medium.com/max/631/1*lyRu2FHtE1DZBGC5ddpRhg.jpeg',\n",
       " 'article_3': 'https://cdn-images-1.medium.com/max/631/1*lyRu2FHtE1DZBGC5ddpRhg.jpeg',\n",
       " 'article_4': 'https://cdn-images-1.medium.com/max/631/1*lyRu2FHtE1DZBGC5ddpRhg.jpeg',\n",
       " 'article_5': 'https://cdn-images-1.medium.com/max/631/1*lyRu2FHtE1DZBGC5ddpRhg.jpeg',\n",
       " 'article_6': 'https://cdn-images-1.medium.com/max/631/1*lyRu2FHtE1DZBGC5ddpRhg.jpeg',\n",
       " 'article_7': 'https://cdn-images-1.medium.com/max/631/1*lyRu2FHtE1DZBGC5ddpRhg.jpeg',\n",
       " 'article_8': 'https://cdn-images-1.medium.com/max/631/1*lyRu2FHtE1DZBGC5ddpRhg.jpeg',\n",
       " 'article_9': 'https://cdn-images-1.medium.com/max/631/1*lyRu2FHtE1DZBGC5ddpRhg.jpeg'}"
      ]
     },
     "execution_count": 117,
     "metadata": {},
     "output_type": "execute_result"
    }
   ],
   "source": [
    "thumbnail_image"
   ]
  },
  {
   "cell_type": "code",
   "execution_count": 129,
   "id": "d6ee3cac",
   "metadata": {},
   "outputs": [
    {
     "data": {
      "text/plain": [
       "{'bozo': False,\n",
       " 'entries': [{'title': 'Hyper Parameter Tuning of Random Forest Algorithim.',\n",
       "   'title_detail': {'type': 'text/plain',\n",
       "    'language': None,\n",
       "    'base': 'https://medium.com/feed/@tsa.vevo.music',\n",
       "    'value': 'Hyper Parameter Tuning of Random Forest Algorithim.'},\n",
       "   'links': [{'rel': 'alternate',\n",
       "     'type': 'text/html',\n",
       "     'href': 'https://medium.com/@tsa.vevo.music/hyper-parameter-tuning-of-random-forest-algorithim-b36813f42201?source=rss-79ed574ed73f------2'}],\n",
       "   'link': 'https://medium.com/@tsa.vevo.music/hyper-parameter-tuning-of-random-forest-algorithim-b36813f42201?source=rss-79ed574ed73f------2',\n",
       "   'id': 'https://medium.com/p/b36813f42201',\n",
       "   'guidislink': False,\n",
       "   'tags': [{'term': 'data-science', 'scheme': None, 'label': None},\n",
       "    {'term': 'data-analysis', 'scheme': None, 'label': None},\n",
       "    {'term': 'machine-learning', 'scheme': None, 'label': None}],\n",
       "   'authors': [{'name': 'Tushar Nautiyal'}],\n",
       "   'author': 'Tushar Nautiyal',\n",
       "   'author_detail': {'name': 'Tushar Nautiyal'},\n",
       "   'published': 'Wed, 13 Jul 2022 11:43:48 GMT',\n",
       "   'published_parsed': time.struct_time(tm_year=2022, tm_mon=7, tm_mday=13, tm_hour=11, tm_min=43, tm_sec=48, tm_wday=2, tm_yday=194, tm_isdst=0),\n",
       "   'updated': '2022-07-13T11:44:58.235Z',\n",
       "   'updated_parsed': time.struct_time(tm_year=2022, tm_mon=7, tm_mday=13, tm_hour=11, tm_min=44, tm_sec=58, tm_wday=2, tm_yday=194, tm_isdst=0),\n",
       "   'content': [{'type': 'text/html',\n",
       "     'language': None,\n",
       "     'base': 'https://medium.com/feed/@tsa.vevo.music',\n",
       "     'value': '<p><strong><em>Algorithm Article\\xa0Series</em></strong></p><figure><img alt=\"\" src=\"https://cdn-images-1.medium.com/max/1024/1*HgkCifP0KUDnYJOWsWaVBg.png\" /><figcaption>Title Image</figcaption></figure><p>This article, explore the famous <strong>supervised machine learning</strong> algorithm “<strong><em>Random Forests</em></strong>”. The aim of this article is to give you a holistic and intuitive understanding about how this algorithm works and what are its hyper parameters what all they\\xa0mean.</p><p>Lets get a basic introduction of our algorithm, <strong>Random Forest</strong> is an ensemble algorithm which uses <strong>bagging</strong> technique to predict a outcome. It fits a number of <strong>decision tree </strong>classifiers on various sub-samples of the dataset and uses averaging to improve the predictive accuracy and control over-fitting.</p><figure><img alt=\"\" src=\"https://cdn-images-1.medium.com/max/800/1*XwNxl-SHcBuu9mo09mPNPw.png\" /><figcaption>Bagging Works Parralely sedning some features with replacement to the\\xa0model</figcaption></figure><h3>Usage of Random Forest Algorithm</h3><p>To use random forest algorithm we can use a very popular machine learning library known as scikit-learn for python. We need to first import Random Forest Classifier for classification problems and Random Forest Regressor for regression problems.</p><a href=\"https://medium.com/media/7ad42a6fcc2577dbf8987d20eb8c496d/href\">https://medium.com/media/7ad42a6fcc2577dbf8987d20eb8c496d/href</a><p>After doing prediction on any dataset lets say we get a accuracy for 70% or 80% or lets say we are having some domain knowledge about the dataset and we need to increase either preicision or recall or both for our classification problems. <strong><em>How can we solve\\xa0that?</em></strong></p><h3>Hyper Parameters and RandomizedSearchCV for\\xa0tuning.</h3><p>There are various ways through which you can boost your accuracy from selecting various models on the basis of your analysis to tuning your hyper parameters for better accuracy but what are hyper parameters\\xa0?</p><p>Hyperparameters are parameters used to control the learning process of a machine learning algorithm you can understand them with this simple\\xa0example</p><figure><img alt=\"\" src=\"https://cdn-images-1.medium.com/max/1024/1*WHAubWuFPmu3V-mzFy6ZGw.jpeg\" /><figcaption><strong>Because I like\\xa0G-Wagon</strong></figcaption></figure><p>Assuming <strong>car</strong> is a machine learning <strong>model</strong>\\xa0, the car will only work efficiently enough if the <strong>engine of the car</strong> is tuned to <strong>support its speed </strong>considering all the loss in mielage and energy getting converted to heat. Without a good engine tuning car cannot work for longer and will not give best results. “<em>Well iam not a car expert but you got the\\xa0idea.”</em></p><p>Similarly random forest algorithm is like a car and the model can have various of its parameters tuned to get a better outcome or result and the values of parameters are derived via training. Follow the follwing example to better understand how to do hyperparameter tuning for random forest classifier.</p><a href=\"https://medium.com/media/06597d3795c4d794911ae1f5e404c8d9/href\">https://medium.com/media/06597d3795c4d794911ae1f5e404c8d9/href</a><p>This Example below shows how i tuned parameters using RandomizedSearchCV for my car price predction problem. First we need to declare random values for each parameter then we can use a dictionary to assign\\xa0values.</p><a href=\"https://medium.com/media/f1799b48b91322fde746e95c567b7ac4/href\">https://medium.com/media/f1799b48b91322fde746e95c567b7ac4/href</a><p>Now simply use a RandomizedSearchCV to start hyper parameter tuning you can also use GridSearchCV both of them are great. Here is the demonstration for\\xa0that.</p><a href=\"https://medium.com/media/74062c730a54add964509be45c44eb9d/href\">https://medium.com/media/74062c730a54add964509be45c44eb9d/href</a><p>Now you can change the scoring to neg_mean_squared_error if its for regression probelms or you can check different scoring attributes <a href=\"https://scikit-learn.org/stable/modules/model_evaluation.html#scoring-parameter\">clicking\\xa0here</a>.</p><p>Well now if you want to see <strong><em>all parameters</em></strong> and what they are you can either use <strong>Shift + Tab</strong> on jupyter notebook to check the docstring values and see all hyperparameters or you can also check below for all parameters and what are their\\xa0uses.</p><a href=\"https://medium.com/media/f139e7cc85775a1ca299823067926061/href\">https://medium.com/media/f139e7cc85775a1ca299823067926061/href</a><p>If you like reading this blog and want to start your project feel free to check out my<strong> </strong><a href=\"https://github.com/TusharNautiyal-web\"><strong><em>Github repositories</em></strong></a> where i have created end to end machine learning projects and check my youtube channel\\xa0: <a href=\"https://www.youtube.com/channel/UCsfYqXa3LoaLkB-9F2vmplA\"><strong><em>Tushar\\xa0Nautiyal</em></strong></a></p><img alt=\"\" height=\"1\" src=\"https://medium.com/_/stat?event=post.clientViewed&amp;referrerSource=full_rss&amp;postId=b36813f42201\" width=\"1\" />'}],\n",
       "   'summary': '<p><strong><em>Algorithm Article\\xa0Series</em></strong></p><figure><img alt=\"\" src=\"https://cdn-images-1.medium.com/max/1024/1*HgkCifP0KUDnYJOWsWaVBg.png\" /><figcaption>Title Image</figcaption></figure><p>This article, explore the famous <strong>supervised machine learning</strong> algorithm “<strong><em>Random Forests</em></strong>”. The aim of this article is to give you a holistic and intuitive understanding about how this algorithm works and what are its hyper parameters what all they\\xa0mean.</p><p>Lets get a basic introduction of our algorithm, <strong>Random Forest</strong> is an ensemble algorithm which uses <strong>bagging</strong> technique to predict a outcome. It fits a number of <strong>decision tree </strong>classifiers on various sub-samples of the dataset and uses averaging to improve the predictive accuracy and control over-fitting.</p><figure><img alt=\"\" src=\"https://cdn-images-1.medium.com/max/800/1*XwNxl-SHcBuu9mo09mPNPw.png\" /><figcaption>Bagging Works Parralely sedning some features with replacement to the\\xa0model</figcaption></figure><h3>Usage of Random Forest Algorithm</h3><p>To use random forest algorithm we can use a very popular machine learning library known as scikit-learn for python. We need to first import Random Forest Classifier for classification problems and Random Forest Regressor for regression problems.</p><a href=\"https://medium.com/media/7ad42a6fcc2577dbf8987d20eb8c496d/href\">https://medium.com/media/7ad42a6fcc2577dbf8987d20eb8c496d/href</a><p>After doing prediction on any dataset lets say we get a accuracy for 70% or 80% or lets say we are having some domain knowledge about the dataset and we need to increase either preicision or recall or both for our classification problems. <strong><em>How can we solve\\xa0that?</em></strong></p><h3>Hyper Parameters and RandomizedSearchCV for\\xa0tuning.</h3><p>There are various ways through which you can boost your accuracy from selecting various models on the basis of your analysis to tuning your hyper parameters for better accuracy but what are hyper parameters\\xa0?</p><p>Hyperparameters are parameters used to control the learning process of a machine learning algorithm you can understand them with this simple\\xa0example</p><figure><img alt=\"\" src=\"https://cdn-images-1.medium.com/max/1024/1*WHAubWuFPmu3V-mzFy6ZGw.jpeg\" /><figcaption><strong>Because I like\\xa0G-Wagon</strong></figcaption></figure><p>Assuming <strong>car</strong> is a machine learning <strong>model</strong>\\xa0, the car will only work efficiently enough if the <strong>engine of the car</strong> is tuned to <strong>support its speed </strong>considering all the loss in mielage and energy getting converted to heat. Without a good engine tuning car cannot work for longer and will not give best results. “<em>Well iam not a car expert but you got the\\xa0idea.”</em></p><p>Similarly random forest algorithm is like a car and the model can have various of its parameters tuned to get a better outcome or result and the values of parameters are derived via training. Follow the follwing example to better understand how to do hyperparameter tuning for random forest classifier.</p><a href=\"https://medium.com/media/06597d3795c4d794911ae1f5e404c8d9/href\">https://medium.com/media/06597d3795c4d794911ae1f5e404c8d9/href</a><p>This Example below shows how i tuned parameters using RandomizedSearchCV for my car price predction problem. First we need to declare random values for each parameter then we can use a dictionary to assign\\xa0values.</p><a href=\"https://medium.com/media/f1799b48b91322fde746e95c567b7ac4/href\">https://medium.com/media/f1799b48b91322fde746e95c567b7ac4/href</a><p>Now simply use a RandomizedSearchCV to start hyper parameter tuning you can also use GridSearchCV both of them are great. Here is the demonstration for\\xa0that.</p><a href=\"https://medium.com/media/74062c730a54add964509be45c44eb9d/href\">https://medium.com/media/74062c730a54add964509be45c44eb9d/href</a><p>Now you can change the scoring to neg_mean_squared_error if its for regression probelms or you can check different scoring attributes <a href=\"https://scikit-learn.org/stable/modules/model_evaluation.html#scoring-parameter\">clicking\\xa0here</a>.</p><p>Well now if you want to see <strong><em>all parameters</em></strong> and what they are you can either use <strong>Shift + Tab</strong> on jupyter notebook to check the docstring values and see all hyperparameters or you can also check below for all parameters and what are their\\xa0uses.</p><a href=\"https://medium.com/media/f139e7cc85775a1ca299823067926061/href\">https://medium.com/media/f139e7cc85775a1ca299823067926061/href</a><p>If you like reading this blog and want to start your project feel free to check out my<strong> </strong><a href=\"https://github.com/TusharNautiyal-web\"><strong><em>Github repositories</em></strong></a> where i have created end to end machine learning projects and check my youtube channel\\xa0: <a href=\"https://www.youtube.com/channel/UCsfYqXa3LoaLkB-9F2vmplA\"><strong><em>Tushar\\xa0Nautiyal</em></strong></a></p><img alt=\"\" height=\"1\" src=\"https://medium.com/_/stat?event=post.clientViewed&amp;referrerSource=full_rss&amp;postId=b36813f42201\" width=\"1\" />'}],\n",
       " 'feed': {'title': 'Stories by Tushar Nautiyal on Medium',\n",
       "  'title_detail': {'type': 'text/plain',\n",
       "   'language': None,\n",
       "   'base': 'https://medium.com/feed/@tsa.vevo.music',\n",
       "   'value': 'Stories by Tushar Nautiyal on Medium'},\n",
       "  'subtitle': 'Stories by Tushar Nautiyal on Medium',\n",
       "  'subtitle_detail': {'type': 'text/html',\n",
       "   'language': None,\n",
       "   'base': 'https://medium.com/feed/@tsa.vevo.music',\n",
       "   'value': 'Stories by Tushar Nautiyal on Medium'},\n",
       "  'links': [{'rel': 'alternate',\n",
       "    'type': 'text/html',\n",
       "    'href': 'https://medium.com/@tsa.vevo.music?source=rss-79ed574ed73f------2'},\n",
       "   {'href': 'https://medium.com/@tsa.vevo.music/feed',\n",
       "    'rel': 'self',\n",
       "    'type': 'application/rss+xml'},\n",
       "   {'href': 'http://medium.superfeedr.com',\n",
       "    'rel': 'hub',\n",
       "    'type': 'text/html'}],\n",
       "  'link': 'https://medium.com/@tsa.vevo.music?source=rss-79ed574ed73f------2',\n",
       "  'image': {'href': 'https://cdn-images-1.medium.com/fit/c/150/150/1*vIiKIhvUTax_JqwnD_vSgA.jpeg',\n",
       "   'title': 'Stories by Tushar Nautiyal on Medium',\n",
       "   'title_detail': {'type': 'text/plain',\n",
       "    'language': None,\n",
       "    'base': 'https://medium.com/feed/@tsa.vevo.music',\n",
       "    'value': 'Stories by Tushar Nautiyal on Medium'},\n",
       "   'links': [{'rel': 'alternate',\n",
       "     'type': 'text/html',\n",
       "     'href': 'https://medium.com/@tsa.vevo.music?source=rss-79ed574ed73f------2'}],\n",
       "   'link': 'https://medium.com/@tsa.vevo.music?source=rss-79ed574ed73f------2'},\n",
       "  'generator_detail': {'name': 'Medium'},\n",
       "  'generator': 'Medium',\n",
       "  'updated': 'Sun, 17 Jul 2022 12:48:20 GMT',\n",
       "  'updated_parsed': time.struct_time(tm_year=2022, tm_mon=7, tm_mday=17, tm_hour=12, tm_min=48, tm_sec=20, tm_wday=6, tm_yday=198, tm_isdst=0),\n",
       "  'publisher': 'yourfriends@medium.com',\n",
       "  'publisher_detail': {'email': 'yourfriends@medium.com'}},\n",
       " 'headers': {'date': 'Sun, 17 Jul 2022 12:48:20 GMT',\n",
       "  'content-type': 'text/xml; charset=UTF-8',\n",
       "  'transfer-encoding': 'chunked',\n",
       "  'connection': 'close',\n",
       "  'cf-ray': '72c3175d0a8c1c55-DEL',\n",
       "  'cache-control': 'private, must-revalidate, max-age=900',\n",
       "  'expires': 'Sun, 17 Jul 2022 13:03:20 GMT',\n",
       "  'link': '<https://medium.com/humans.txt>; rel=\"humans\"',\n",
       "  'set-cookie': '__cfruid=7a25429ba64da2e806006467dfa03e163133b682-1658062100; path=/; domain=.medium.com; HttpOnly; Secure; SameSite=None',\n",
       "  'strict-transport-security': 'max-age=15552000; includeSubDomains; preload',\n",
       "  'cf-cache-status': 'DYNAMIC',\n",
       "  'content-security-policy': \"default-src 'self'; connect-src https://localhost https://*.instapaper.com https://*.stripe.com https://glyph.medium.com https://*.paypal.com https://*.braintree-api.com https://*.braintreegateway.com https://accounts.google.com https://getpocket.com https://medium.com https://*.medium.com https://*.medium.com https://medium.com https://*.medium.com https://*.algolia.net https://cdn-static-1.medium.com https://dnqgz544uhbo8.cloudfront.net https://cdn-videos-1.medium.com https://cdn-audio-1.medium.com https://lightstep.medium.systems https://*.branch.io 'self'; font-src data: https://*.amazonaws.com https://*.medium.com https://glyph.medium.com https://medium.com https://*.gstatic.com https://dnqgz544uhbo8.cloudfront.net https://cdn-static-1.medium.com 'self'; frame-src chromenull: https: webviewprogressproxy: blob: medium: 'self'; img-src blob: data: https: 'self'; media-src https://*.cdn.vine.co https://d1fcbxp97j4nb2.cloudfront.net https://d262ilb51hltx0.cloudfront.net https://*.medium.com https://gomiro.medium.com https://miro.medium.com https://pbs.twimg.com 'self' blob:; object-src 'self'; script-src 'unsafe-eval' 'unsafe-inline' about: https: 'self'; style-src 'unsafe-inline' data: https: 'self'; report-uri https://csp.medium.com\",\n",
       "  'expect-ct': 'max-age=604800, report-uri=\"https://report-uri.cloudflare.com/cdn-cgi/beacon/expect-ct\"',\n",
       "  'medium-fulfilled-by': 'edgy/8.3.0, valencia/main-20220712-130444-a3a45599e9',\n",
       "  'pragma': 'private',\n",
       "  'worker-missing-cookies': '1',\n",
       "  'x-content-type-options': 'nosniff',\n",
       "  'x-envoy-upstream-service-time': '35',\n",
       "  'x-frame-options': 'sameorigin',\n",
       "  'x-obvious-info': '20220715-1642-root,a21c7170',\n",
       "  'x-obvious-tid': '1658062100156:86d62cf56cf0',\n",
       "  'x-opentracing': '{\"ot-tracer-spanid\":\"5ec39ecb40d8d3ad\",\"ot-tracer-traceid\":\"f072dae3bdddeae\",\"ot-tracer-sampled\":\"true\"}',\n",
       "  'x-powered-by': 'Medium',\n",
       "  'x-ua-compatible': 'IE=edge, Chrome=1',\n",
       "  'x-xss-protection': '1; mode=block',\n",
       "  'vary': 'Accept-Encoding',\n",
       "  'server': 'cloudflare',\n",
       "  'content-encoding': 'gzip',\n",
       "  'alt-svc': 'h3=\":443\"; ma=86400, h3-29=\":443\"; ma=86400'},\n",
       " 'href': 'https://medium.com/feed/@tsa.vevo.music',\n",
       " 'status': 301,\n",
       " 'encoding': 'UTF-8',\n",
       " 'version': 'rss20',\n",
       " 'namespaces': {'dc': 'http://purl.org/dc/elements/1.1/',\n",
       "  'content': 'http://purl.org/rss/1.0/modules/content/',\n",
       "  '': 'http://www.w3.org/2005/Atom',\n",
       "  'creativeCommons': 'http://cyber.law.harvard.edu/rss/creativeCommonsRssModule.html'}}"
      ]
     },
     "execution_count": 129,
     "metadata": {},
     "output_type": "execute_result"
    }
   ],
   "source": [
    "url = \"http://medium.com/feed/@tsa.vevo.music\"\n",
    "feed.parse(url)"
   ]
  },
  {
   "cell_type": "code",
   "execution_count": 130,
   "id": "5164b37a",
   "metadata": {},
   "outputs": [
    {
     "ename": "KeyError",
     "evalue": "'image'",
     "output_type": "error",
     "traceback": [
      "\u001b[1;31m---------------------------------------------------------------------------\u001b[0m",
      "\u001b[1;31mKeyError\u001b[0m                                  Traceback (most recent call last)",
      "Input \u001b[1;32mIn [130]\u001b[0m, in \u001b[0;36m<cell line: 5>\u001b[1;34m()\u001b[0m\n\u001b[0;32m      3\u001b[0m data \u001b[38;5;241m=\u001b[39m feed\u001b[38;5;241m.\u001b[39mparse(user_data_link)\n\u001b[0;32m      4\u001b[0m user_data  \u001b[38;5;241m=\u001b[39m data\u001b[38;5;241m.\u001b[39mfeed\n\u001b[1;32m----> 5\u001b[0m user_data[\u001b[38;5;124m'\u001b[39m\u001b[38;5;124mprofile_pic\u001b[39m\u001b[38;5;124m'\u001b[39m] \u001b[38;5;241m=\u001b[39m \u001b[43muser_data\u001b[49m\u001b[43m[\u001b[49m\u001b[38;5;124;43m'\u001b[39;49m\u001b[38;5;124;43mimage\u001b[39;49m\u001b[38;5;124;43m'\u001b[39;49m\u001b[43m]\u001b[49m\u001b[38;5;241m.\u001b[39mhref\n\u001b[0;32m      6\u001b[0m user_data[\u001b[38;5;124m'\u001b[39m\u001b[38;5;124mlink\u001b[39m\u001b[38;5;124m'\u001b[39m] \u001b[38;5;241m=\u001b[39m \u001b[38;5;28mstr\u001b[39m(user_data[\u001b[38;5;124m'\u001b[39m\u001b[38;5;124mlink\u001b[39m\u001b[38;5;124m'\u001b[39m])\u001b[38;5;241m.\u001b[39msplit(\u001b[38;5;124m'\u001b[39m\u001b[38;5;124m?\u001b[39m\u001b[38;5;124m'\u001b[39m,\u001b[38;5;241m1\u001b[39m)[\u001b[38;5;241m0\u001b[39m]\n\u001b[0;32m      7\u001b[0m unecessary \u001b[38;5;241m=\u001b[39m [\u001b[38;5;124m'\u001b[39m\u001b[38;5;124mtitle_detail\u001b[39m\u001b[38;5;124m'\u001b[39m,\u001b[38;5;124m'\u001b[39m\u001b[38;5;124msubtitle\u001b[39m\u001b[38;5;124m'\u001b[39m,\u001b[38;5;124m'\u001b[39m\u001b[38;5;124msubtitle_detail\u001b[39m\u001b[38;5;124m'\u001b[39m,\u001b[38;5;124m'\u001b[39m\u001b[38;5;124mlinks\u001b[39m\u001b[38;5;124m'\u001b[39m,\u001b[38;5;124m'\u001b[39m\u001b[38;5;124mgenerator_detail\u001b[39m\u001b[38;5;124m'\u001b[39m,\u001b[38;5;124m'\u001b[39m\u001b[38;5;124mimage\u001b[39m\u001b[38;5;124m'\u001b[39m,\u001b[38;5;124m'\u001b[39m\u001b[38;5;124mupdated_parsed\u001b[39m\u001b[38;5;124m'\u001b[39m,\u001b[38;5;124m'\u001b[39m\u001b[38;5;124mpublisher\u001b[39m\u001b[38;5;124m'\u001b[39m,\u001b[38;5;124m'\u001b[39m\u001b[38;5;124mpublisher_detail\u001b[39m\u001b[38;5;124m'\u001b[39m] \n",
      "File \u001b[1;32m~\\AppData\\Local\\Programs\\Python\\Python39\\lib\\site-packages\\feedparser\\util.py:113\u001b[0m, in \u001b[0;36mFeedParserDict.__getitem__\u001b[1;34m(self, key)\u001b[0m\n\u001b[0;32m    111\u001b[0m     \u001b[38;5;28;01melif\u001b[39;00m \u001b[38;5;28mdict\u001b[39m\u001b[38;5;241m.\u001b[39m\u001b[38;5;21m__contains__\u001b[39m(\u001b[38;5;28mself\u001b[39m, realkey):\n\u001b[0;32m    112\u001b[0m         \u001b[38;5;28;01mreturn\u001b[39;00m \u001b[38;5;28mdict\u001b[39m\u001b[38;5;241m.\u001b[39m\u001b[38;5;21m__getitem__\u001b[39m(\u001b[38;5;28mself\u001b[39m, realkey)\n\u001b[1;32m--> 113\u001b[0m \u001b[38;5;28;01mreturn\u001b[39;00m \u001b[38;5;28;43mdict\u001b[39;49m\u001b[38;5;241;43m.\u001b[39;49m\u001b[38;5;21;43m__getitem__\u001b[39;49m\u001b[43m(\u001b[49m\u001b[38;5;28;43mself\u001b[39;49m\u001b[43m,\u001b[49m\u001b[43m \u001b[49m\u001b[43mkey\u001b[49m\u001b[43m)\u001b[49m\n",
      "\u001b[1;31mKeyError\u001b[0m: 'image'"
     ]
    }
   ],
   "source": [
    "username = \"@tsa.vevo.music\"\n",
    "user_data_link = f\"https://medium.com/feed/{username}\"\n",
    "data = feed.parse(user_data_link)\n",
    "user_data  = data.feed\n",
    "user_data['profile_pic'] = user_data['image'].href\n",
    "user_data['link'] = str(user_data['link']).split('?',1)[0]\n",
    "unecessary = ['title_detail','subtitle','subtitle_detail','links','generator_detail','image','updated_parsed','publisher','publisher_detail'] \n",
    "for e in unecessary: \n",
    "    user_data.pop(e)\n",
    "user_data"
   ]
  },
  {
   "cell_type": "code",
   "execution_count": 132,
   "id": "a01e395e",
   "metadata": {},
   "outputs": [
    {
     "data": {
      "text/plain": [
       "{'html': {'xmlns:cc': 'http://creativecommons.org/ns#'},\n",
       " 'head': {'prefix': 'og: http://ogp.me/ns# fb: http://ogp.me/ns/fb# medium-com: http://ogp.me/ns/fb/medium-com#'},\n",
       " 'meta': {'property': 'al:web:url', 'content': 'https://medium.com'},\n",
       " 'links': [{'rel': 'canonical',\n",
       "   'href': 'https://medium.com',\n",
       "   'type': 'text/html'},\n",
       "  {'rel': 'search',\n",
       "   'type': 'application/opensearchdescription+xml',\n",
       "   'title': 'Medium',\n",
       "   'href': 'https://medium.com/osd.xml'},\n",
       "  {'rel': 'alternate',\n",
       "   'href': 'android-app://com.medium.reader/https/medium.com',\n",
       "   'type': 'text/html'},\n",
       "  {'rel': 'stylesheet',\n",
       "   'href': 'https://cdn-static-1.medium.com/_/fp/css/main-branding-base.fjPGgkNh4FL35RkN0VJRsg.12.css',\n",
       "   'type': 'text/html'},\n",
       "  {'rel': 'icon',\n",
       "   'href': 'https://miro.medium.com/1*m-R_BkNf1Qjr1YbyOIJY2w.png',\n",
       "   'class': 'js-favicon',\n",
       "   'type': 'text/html'},\n",
       "  {'rel': 'apple-touch-icon',\n",
       "   'sizes': '152x152',\n",
       "   'href': 'https://cdn-images-1.medium.com/fit/c/304/304/1*m-R_BkNf1Qjr1YbyOIJY2w.png',\n",
       "   'type': 'text/html'},\n",
       "  {'rel': 'apple-touch-icon',\n",
       "   'sizes': '120x120',\n",
       "   'href': 'https://cdn-images-1.medium.com/fit/c/240/240/1*m-R_BkNf1Qjr1YbyOIJY2w.png',\n",
       "   'type': 'text/html'},\n",
       "  {'rel': 'apple-touch-icon',\n",
       "   'sizes': '76x76',\n",
       "   'href': 'https://cdn-images-1.medium.com/fit/c/152/152/1*m-R_BkNf1Qjr1YbyOIJY2w.png',\n",
       "   'type': 'text/html'},\n",
       "  {'rel': 'apple-touch-icon',\n",
       "   'sizes': '60x60',\n",
       "   'href': 'https://cdn-images-1.medium.com/fit/c/120/120/1*m-R_BkNf1Qjr1YbyOIJY2w.png',\n",
       "   'type': 'text/html'},\n",
       "  {'rel': 'mask-icon',\n",
       "   'href': 'https://cdn-static-1.medium.com/_/fp/icons/monogram-mask.KPLCSFEZviQN0jQ7veN2RQ.12.svg',\n",
       "   'color': '#171717',\n",
       "   'type': 'text/html'}],\n",
       " 'link': 'android-app://com.medium.reader/https/medium.com',\n",
       " 'script': {'async': 'async',\n",
       "  'src': 'https://www.google-analytics.com/analytics.js'},\n",
       " 'summary': '<div class=\"site-main\" id=\"container\"><div class=\"butterBar butterBar--error\"></div><div class=\"surface\"><div class=\"screenContent\" id=\"prerendered\"><div class=\"metabar u-clearfix u-boxShadow4px12pxBlackLightest u-backgroundTransparentBlack js-metabar\"><div class=\"branch-journeys-top\"></div><div class=\"js-metabarMiddle metabar-inner u-marginAuto u-maxWidth1032 u-flexCenter u-justifyContentSpaceBetween u-height65 u-xs-height56 u-paddingHorizontal20\"><div class=\"metabar-block u-flex1 u-flexCenter\"><div class=\"u-xs-show js-metabarLogoLeft\"><a class=\"siteNav-logo u-fillBlack u-flex0 u-flexCenter u-paddingTop0\" href=\"https://medium.com/\"><span class=\"svgIcon svgIcon--logoMonogramUnbound svgIcon--25px\"></span><span class=\"u-textScreenReader\">Homepage</span></a></div><div class=\"u-xs-hide js-metabarLogoLeft\"><a class=\"siteNav-logo u-fillBlack u-flex0\" href=\"https://medium.com/\"><span class=\"svgIcon svgIcon--logoWordmarkUnbound svgIcon--142x25px u-flex\"></span><span class=\"u-textScreenReader\">Homepage</span></a></div></div></div></div><div class=\"metabar metabar--spacer js-metabarSpacer u-height65 u-xs-height56\"></div><section class=\"container u-marginAuto u-maxWidth1000 u-marginTop60 u-xs-marginTop15 u-contentSerifRegular\"><div class=\"row u-lineHeightTightest\"><div class=\"col u-size6of12 u-xs-size12of12 u-xs-none\"><img class=\"u-width450 u-height450 u-md-size410x410 u-sm-size303x303 u-xs-size303x303 u-xxs-size242x242\" src=\"https://medium.com/feed/&#47;&#47;cdn&#45;images&#45;1.medium.com&#47;proxy&#47;1*8rgW0Qvy2bSGSBMlORMhQA.png\" /></div><div class=\"col u-size6of12 u-xs-size12of12 u-textColorDarker\"><div class=\"u-textUppercase u-fontSize16 u-xs-fontSize14 u-xs-textAlignCenter u-contentSansRegular\">Page Not Found</div><div class=\"u-marginTop11 u-textColorLight u-fontSize150 u-lineHeight174 u-md-fontSize130 u-md-lineHeight150 u-sm-fontSize90 u-sm-lineHeight104 u-xs-textAlignCenter m-fontMarketingBase\">404</div><div class=\"u-marginTop11 u-fontSize64 u-lineHeight66 u-md-fontSize48 u-md-lineHeight52 u-sm-fontSize32 u-sm-lineHeight36 u-xs-textAlignCenter m-fontMarketingBase\">Out of nothing, something.</div><div class=\"u-marginVertical20 u-none u-xs-block\"><img class=\"u-xs-size303x303 u-xxs-size242x242 u-xs-block u-marginLeftAuto u-marginRightAuto\" src=\"https://medium.com/feed/&#47;&#47;cdn&#45;images&#45;1.medium.com&#47;proxy&#47;1*8rgW0Qvy2bSGSBMlORMhQA.png\" /></div><div class=\"u-marginTop11 u-fontSize18 u-lineHeight24 u-sm-fontSize16 u-sm-lineHeight20 u-xs-textAlignCenter u-contentSansRegular\">You can find (just about) anything on Medium — apparently even a page that doesn’t exist. Maybe these stories about finding what you didn’t know you were looking for will take you somewhere new?</div><div class=\"u-fontSize18 u-marginTop11 u-xs-textAlignCenter u-contentSansRegular\"><a class=\" link--underline\" href=\"https://medium.com\">Home</a></div></div></div></section><section class=\"container u-clearfix u-backgroundWhite u-marginTop50 u-paddingBottom60 u-xs-padding0\"><div class=\"u-clearfix u-backgroundWhite\"><div class=\"row u-marginAuto u-maxWidth1032 u-paddingTop30 u-paddingBottom40\"><div class=\"col u-padding8 u-xs-size12of12 u-size4of12\"><div class=\"uiScale uiScale-ui--small uiScale-caption--regular u-height280 u-width100pct u-backgroundWhite u-borderCardBorder u-boxShadow u-borderBox u-borderRadius4 js-trackPostPresentation\"><a class=\"link link--noUnderline u-baseColor--link\" href=\"https://medium.com/@jfpetersphoto/getting-lost-in-the-subtlety-of-the-landscape-fd482179acde?source=placement_card_footer_grid---------0-31\"><div class=\"u-backgroundCover u-backgroundColorGrayLight u-height100 u-width100pct u-borderBottomLight u-borderRadiusTop4\" style=\"background-position: 50% 50% !important;\"></div></a><div class=\"u-padding15 u-borderBox u-flexColumn u-height180\"><a class=\"link link--noUnderline u-baseColor--link u-flex1\" href=\"https://medium.com/@jfpetersphoto/getting-lost-in-the-subtlety-of-the-landscape-fd482179acde?source=placement_card_footer_grid---------0-31\"><div class=\"uiScale uiScale-ui--regular uiScale-caption--small u-textColorNormal u-marginBottom7\">Applause from Medium Staff</div><div class=\"ui-h3 ui-clamp2 u-textColorDarkest u-contentSansBold u-fontSize24 u-maxHeight2LineHeightTighter u-lineClamp2 u-textOverflowEllipsis u-letterSpacingTight u-paddingBottom2\">Getting Lost in Canada</div></a><div class=\"u-paddingBottom10 u-flex0 u-flexCenter\"><div class=\"u-flex1 u-minWidth0 u-marginRight10\"><div class=\"u-flexCenter\"><div class=\"postMetaInline-avatar u-flex0\"><a class=\"link u-baseColor--link avatar\" dir=\"auto\" href=\"https://medium.com/@jfpetersphoto\"><img alt=\"Go to the profile of John Francis Peters\" class=\"avatar-image u-size36x36 u-xs-size32x32\" src=\"https://cdn-images-1.medium.com/fit/c/36/36/1*n9qO_wvh3fedEDcneQ-eyg.jpeg\" /></a></div><div class=\"postMetaInline postMetaInline-authorLockup ui-captionStrong u-flex1 u-noWrapWithEllipsis\"><a class=\"ds-link ds-link--styleSubtle link link--darken link--darker\" dir=\"auto\" href=\"https://medium.com/@jfpetersphoto?source=placement_card_footer_grid---------0-31\" title=\"Go to the profile of John Francis Peters\">John Francis Peters</a><div class=\"ui-caption u-fontSize12 u-baseColor--textNormal u-textColorNormal js-postMetaInlineSupplemental\"><a class=\"link link--darken\" href=\"https://medium.com/@jfpetersphoto/getting-lost-in-the-subtlety-of-the-landscape-fd482179acde?source=placement_card_footer_grid---------0-31\"><time datetime=\"2018-08-09T17:04:16.890Z\">Aug 9, 2018</time></a><span class=\"middotDivider u-fontSize12\"></span><span class=\"readingTime\" title=\"5 min read\"></span></div></div></div></div></div></div></div></div><div class=\"col u-padding8 u-xs-size12of12 u-size4of12\"><div class=\"uiScale uiScale-ui--small uiScale-caption--regular u-height280 u-width100pct u-backgroundWhite u-borderCardBorder u-boxShadow u-borderBox u-borderRadius4 js-trackPostPresentation\"><a class=\"link link--noUnderline u-baseColor--link\" href=\"https://medium.com/@jamievaron/to-anyone-who-has-lost-themselves-9c5e3049cb13?source=placement_card_footer_grid---------1-31\"><div class=\"u-backgroundCover u-backgroundColorGrayLight u-height100 u-width100pct u-borderBottomLight u-borderRadiusTop4\" style=\"background-position: 50% 50% !important;\"></div></a><div class=\"u-padding15 u-borderBox u-flexColumn u-height180\"><a class=\"link link--noUnderline u-baseColor--link u-flex1\" href=\"https://medium.com/@jamievaron/to-anyone-who-has-lost-themselves-9c5e3049cb13?source=placement_card_footer_grid---------1-31\"><div class=\"uiScale uiScale-ui--regular uiScale-caption--small u-textColorNormal u-marginBottom7\">Applause from Medium Staff</div><div class=\"ui-h3 ui-clamp2 u-textColorDarkest u-contentSansBold u-fontSize24 u-maxHeight2LineHeightTighter u-lineClamp2 u-textOverflowEllipsis u-letterSpacingTight u-paddingBottom2\">To Anyone Who Has Lost Themselves</div></a><div class=\"u-paddingBottom10 u-flex0 u-flexCenter\"><div class=\"u-flex1 u-minWidth0 u-marginRight10\"><div class=\"u-flexCenter\"><div class=\"postMetaInline-avatar u-flex0\"><a class=\"link u-baseColor--link avatar\" dir=\"auto\" href=\"https://medium.com/@jamievaron\"><img alt=\"Go to the profile of Jamie Varon\" class=\"avatar-image u-size36x36 u-xs-size32x32\" src=\"https://cdn-images-1.medium.com/fit/c/36/36/1*Q2D5Yg2KSzuGTngtMSLKnw.jpeg\" /></a></div><div class=\"postMetaInline postMetaInline-authorLockup ui-captionStrong u-flex1 u-noWrapWithEllipsis\"><a class=\"ds-link ds-link--styleSubtle link link--darken link--darker\" dir=\"auto\" href=\"https://medium.com/@jamievaron?source=placement_card_footer_grid---------1-31\" title=\"Go to the profile of Jamie Varon\">Jamie Varon</a><div class=\"ui-caption u-fontSize12 u-baseColor--textNormal u-textColorNormal js-postMetaInlineSupplemental\"><a class=\"link link--darken\" href=\"https://medium.com/@jamievaron/to-anyone-who-has-lost-themselves-9c5e3049cb13?source=placement_card_footer_grid---------1-31\"><time datetime=\"2016-01-04T19:41:23.558Z\">Jan 4, 2016</time></a><span class=\"middotDivider u-fontSize12\"></span><span class=\"readingTime\" title=\"6 min read\"></span></div></div></div></div></div></div></div></div><div class=\"col u-padding8 u-xs-size12of12 u-size4of12\"><div class=\"uiScale uiScale-ui--small uiScale-caption--regular u-height280 u-width100pct u-backgroundWhite u-borderCardBorder u-boxShadow u-borderBox u-borderRadius4 js-trackPostPresentation\"><a class=\"link link--noUnderline u-baseColor--link\" href=\"https://medium.com/@priya_ebooks/three-things-i-lost-580108ca0a2c?source=placement_card_footer_grid---------2-31\"><div class=\"u-backgroundCover u-backgroundColorGrayLight u-height100 u-width100pct u-borderBottomLight u-borderRadiusTop4\" style=\"background-position: 50% 50% !important;\"></div></a><div class=\"u-padding15 u-borderBox u-flexColumn u-height180\"><a class=\"link link--noUnderline u-baseColor--link u-flex1\" href=\"https://medium.com/@priya_ebooks/three-things-i-lost-580108ca0a2c?source=placement_card_footer_grid---------2-31\"><div class=\"uiScale uiScale-ui--regular uiScale-caption--small u-textColorNormal u-marginBottom7\">Applause from Medium Staff</div><div class=\"ui-h3 ui-clamp2 u-textColorDarkest u-contentSansBold u-fontSize24 u-maxHeight2LineHeightTighter u-lineClamp2 u-textOverflowEllipsis u-letterSpacingTight u-paddingBottom2\">Three Things I Lost</div></a><div class=\"u-paddingBottom10 u-flex0 u-flexCenter\"><div class=\"u-flex1 u-minWidth0 u-marginRight10\"><div class=\"u-flexCenter\"><div class=\"postMetaInline-avatar u-flex0\"><a class=\"link u-baseColor--link avatar\" dir=\"auto\" href=\"https://medium.com/@priya_ebooks\"><img alt=\"Go to the profile of Priya\" class=\"avatar-image u-size36x36 u-xs-size32x32\" src=\"https://cdn-images-1.medium.com/fit/c/36/36/0*E7TD4xieWUQBhHhr.jpeg\" /></a></div><div class=\"postMetaInline postMetaInline-authorLockup ui-captionStrong u-flex1 u-noWrapWithEllipsis\"><a class=\"ds-link ds-link--styleSubtle link link--darken link--darker\" dir=\"auto\" href=\"https://medium.com/@priya_ebooks?source=placement_card_footer_grid---------2-31\" title=\"Go to the profile of Priya\">Priya</a><div class=\"ui-caption u-fontSize12 u-baseColor--textNormal u-textColorNormal js-postMetaInlineSupplemental\"><a class=\"link link--darken\" href=\"https://medium.com/@priya_ebooks/three-things-i-lost-580108ca0a2c?source=placement_card_footer_grid---------2-31\"><time datetime=\"2017-04-27T18:41:57.535Z\">Apr 27, 2017</time></a><span class=\"middotDivider u-fontSize12\"></span><span class=\"readingTime\" title=\"3 min read\"></span></div></div></div></div></div></div></div></div></div></div></section></div></div></div><div class=\"loadingBar\"></div>&lt;'}"
      ]
     },
     "execution_count": 132,
     "metadata": {},
     "output_type": "execute_result"
    }
   ],
   "source": [
    "user_data"
   ]
  },
  {
   "cell_type": "code",
   "execution_count": null,
   "id": "d07895ec",
   "metadata": {},
   "outputs": [],
   "source": []
  }
 ],
 "metadata": {
  "kernelspec": {
   "display_name": "Python 3 (ipykernel)",
   "language": "python",
   "name": "python3"
  },
  "language_info": {
   "codemirror_mode": {
    "name": "ipython",
    "version": 3
   },
   "file_extension": ".py",
   "mimetype": "text/x-python",
   "name": "python",
   "nbconvert_exporter": "python",
   "pygments_lexer": "ipython3",
   "version": "3.9.7"
  },
  "vscode": {
   "interpreter": {
    "hash": "0abfef323ec3d37ae28965e2fddbfe4c6d59d0a5906d3fe4d2208a56ce81f471"
   }
  }
 },
 "nbformat": 4,
 "nbformat_minor": 5
}
